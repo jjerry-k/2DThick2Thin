{
 "cells": [
  {
   "cell_type": "code",
   "execution_count": 1,
   "metadata": {},
   "outputs": [
    {
     "name": "stderr",
     "output_type": "stream",
     "text": [
      "Using TensorFlow backend.\n"
     ]
    }
   ],
   "source": [
    "from utils import *\n",
    "\n",
    "import os, cv2\n",
    "import numpy as np\n",
    "from matplotlib import pyplot as plt"
   ]
  },
  {
   "cell_type": "code",
   "execution_count": 3,
   "metadata": {},
   "outputs": [],
   "source": [
    "Data_root = './interpolation/'\n",
    "train_low, train_high, val_low, val_high, test_low = data_loader_v2(Data_root)"
   ]
  },
  {
   "cell_type": "code",
   "execution_count": 4,
   "metadata": {},
   "outputs": [
    {
     "name": "stdout",
     "output_type": "stream",
     "text": [
      "(303, 320, 256, 3)\n",
      "(316, 320, 256, 6)\n",
      "(25, 320, 256, 3)\n",
      "(25, 320, 256, 6)\n",
      "(328, 320, 256, 3)\n"
     ]
    }
   ],
   "source": [
    "print(train_low.shape)\n",
    "print(train_high.shape)\n",
    "print(val_low.shape)\n",
    "print(val_high.shape)\n",
    "print(test_low.shape)"
   ]
  },
  {
   "cell_type": "markdown",
   "metadata": {},
   "source": [
    "# Data_Loader 순서\n",
    "\n",
    "1. Patient list \n",
    "2. Read nifti image\n",
    "3. Make Low data\n",
    "4. Make High data\n"
   ]
  },
  {
   "cell_type": "code",
   "execution_count": 5,
   "metadata": {},
   "outputs": [],
   "source": [
    "def data_loader_v3(PATH, val_idx = 0):\n",
    "    train_low = []\n",
    "    train_high = None\n",
    "    val_low = []\n",
    "    test_low = []\n",
    "    \n",
    "    # Loading Patient list & Seperating Train lists & Validation lists\n",
    "    Pat_lists = sorted(os.listdir(PATH))\n",
    "    val_pat = Pat_lists[val_idx]\n",
    "    Pat_lists.pop(val_idx)\n",
    "    \n",
    "    \n",
    "    # Train lists loop\n",
    "    for i, pat in enumerate(Pat_lists):\n",
    "        \n",
    "        # Load t1, dante\n",
    "        Pat_path = os.path.join(PATH, pat)\n",
    "        tmp_t1, tmp_dante = load_nii_multi(Pat_path) # (H, W, S)\n",
    "        \n",
    "        # Spliting dante data (H, W, S) -> (S/6, H, W, 6)\n",
    "        _, _, s = tmp_dante.shape\n",
    "        tmp_dante = np.array(np.dsplit(tmp_dante, s/6))[1:] # 첫번째 data는 불량으로 제외.\n",
    "        batch, h, w, _ = tmp_dante.shape\n",
    "        \n",
    "        # Make Train Low\n",
    "        mean_dante = tmp_dante.mean(axis=-1)  # (S/6, H, W)\n",
    "        for j in range(batch):\n",
    "            empty = np.zeros((3, h, w))\n",
    "            if j==0:\n",
    "                empty[1:,...] = mean_dante[:2]\n",
    "            elif j==batch-1:\n",
    "                empty[:2,...] = mean_dante[-2:]\n",
    "            else:\n",
    "                empty = mean_dante[j-1:j+2]\n",
    "            \n",
    "            empty = np.transpose(empty, [1, 2, 0])\n",
    "            train_low.append(empty)\n",
    "        \n",
    "        # Make Train High\n",
    "        tmp_high = np.zeros((batch, h, w, 12))\n",
    "        tmp_high[..., 3:-3] = tmp_dante\n",
    "        tmp_high[1:, ..., :3] = tmp_dante[:-1, ..., 3:]\n",
    "        tmp_high[:-1, ..., -3:] = tmp_dante[1:, ..., :3]\n",
    "        \n",
    "        if i==0:\n",
    "            train_high = tmp_high\n",
    "        else:\n",
    "            train_high = np.concatenate([train_high, tmp_high], axis=0)\n",
    "            \n",
    "        # Make Test Low\n",
    "        tmp_t1 = np.transpose(tmp_t1, (2, 0, 1)) # (S, H, W)\n",
    "        batch, _, _ = tmp_t1.shape\n",
    "        for j in range(batch):\n",
    "            empty = np.zeros((3, h, w))\n",
    "            if j==0:\n",
    "                empty[1:,...] = tmp_t1[:2]\n",
    "            elif j==batch-1:\n",
    "                empty[:2,...] = tmp_t1[-2:]\n",
    "            else:\n",
    "                empty = tmp_t1[j-1:j+2]\n",
    "            \n",
    "            empty = np.transpose(empty, [1, 2, 0])\n",
    "            test_low.append(empty)\n",
    "        \n",
    "    # Validation\n",
    "    \n",
    "    # Load image\n",
    "    Pat_path = os.path.join(PATH, val_pat)\n",
    "    test_t1, tmp_val_high = load_nii_multi(Pat_path)\n",
    "    \n",
    "    # Spliting dante data (H, W, S) -> (S/6, H, W, 6)\n",
    "    h, w, s = tmp_val_high.shape\n",
    "    tmp_val_high = np.array(np.dsplit(tmp_val_high, s/6))[1:]\n",
    "    batch, h, w, _ = tmp_val_high.shape\n",
    "    \n",
    "    # Make Validation Low\n",
    "    mean_dante = tmp_val_high.mean(axis=-1)  # (S/6, H, W)\n",
    "    \n",
    "    for j in range(batch):\n",
    "        empty = np.zeros((3, h, w))\n",
    "        if j==0:\n",
    "            empty[1:,...] = mean_dante[:2]\n",
    "        elif j==batch-1:\n",
    "            empty[:2,...] = mean_dante[-2:]\n",
    "        else:\n",
    "            empty = mean_dante[j-1:j+2]\n",
    "\n",
    "        empty = np.transpose(empty, [1, 2, 0])\n",
    "        val_low.append(empty)\n",
    "\n",
    "    # Make Train High\n",
    "    val_high = np.zeros((batch, h, w, 12))\n",
    "    val_high[..., 3:-3] = tmp_val_high\n",
    "    val_high[1:, ..., :3] = tmp_val_high[:-1, ..., 3:]\n",
    "    val_high[:-1, ..., -3:] = tmp_val_high[1:, ..., :3]\n",
    "    \n",
    "    \n",
    "    \n",
    "    \n",
    "    test_t1 = np.transpose(test_t1, (2, 0, 1)) # (S, H, W)\n",
    "    for j in range(s//6):\n",
    "        empty = np.zeros((3, h, w))\n",
    "        if j==0:\n",
    "            empty[1:,...] = test_t1[:2]\n",
    "        elif j==s/6-1:\n",
    "            empty[:2,...] = test_t1[-2:]\n",
    "        else:\n",
    "            empty = test_t1[j-1:j+2]\n",
    "\n",
    "        empty = np.transpose(empty, [1, 2, 0])\n",
    "        test_low.append(empty)\n",
    "        \n",
    "    #val_dante = np.transpose(val_dante, [2, 0, 1])\n",
    "    #val_dante = np.reshape(val_dante, [len(val_dante)//6, 6, 320, 256])\n",
    "    #val_dante = np.transpose(val_dante, [0, 2, 3, 1])\n",
    "    #val_t1 = np.expand_dims(np.transpose(val_t1, [2, 0, 1]), -1)\n",
    "    \n",
    "    return np.array(train_low), train_high, np.array(val_low), val_high, np.array(test_low)"
   ]
  },
  {
   "cell_type": "code",
   "execution_count": 6,
   "metadata": {},
   "outputs": [
    {
     "name": "stdout",
     "output_type": "stream",
     "text": [
      "(303, 320, 256, 3)\n",
      "(303, 320, 256, 12)\n",
      "(25, 320, 256, 3)\n",
      "(25, 320, 256, 12)\n",
      "(342, 320, 256, 3)\n"
     ]
    }
   ],
   "source": [
    "train_low, train_high, val_low, val_high, test_low = data_loader_v3(Data_root)\n",
    "\n",
    "print(train_low.shape)\n",
    "print(train_high.shape)\n",
    "print(val_low.shape)\n",
    "print(val_high.shape)\n",
    "print(test_low.shape)"
   ]
  },
  {
   "cell_type": "code",
   "execution_count": 7,
   "metadata": {},
   "outputs": [],
   "source": [
    "from ipywidgets import interact\n",
    "\n",
    "def plot_fn_single(img):\n",
    "    mdx = len(img)-1\n",
    "    def plot(idx=0):\n",
    "        plt.figure(figsize=(20, 10))\n",
    "        for i in range(12):\n",
    "            plt.subplot(2, 6, i+1)\n",
    "            plt.imshow(img[idx, ..., i], cmap='gray', vmin=0, vmax=img[idx].max())\n",
    "            plt.xlabel(\"%f ~ %f\"%(0, img[idx, ..., i].max()))\n",
    "    interact(plot, idx=(0, mdx, 1))"
   ]
  }
 ],
 "metadata": {
  "kernelspec": {
   "display_name": "Python 3",
   "language": "python",
   "name": "python3"
  },
  "language_info": {
   "codemirror_mode": {
    "name": "ipython",
    "version": 3
   },
   "file_extension": ".py",
   "mimetype": "text/x-python",
   "name": "python",
   "nbconvert_exporter": "python",
   "pygments_lexer": "ipython3",
   "version": "3.6.8"
  }
 },
 "nbformat": 4,
 "nbformat_minor": 2
}
