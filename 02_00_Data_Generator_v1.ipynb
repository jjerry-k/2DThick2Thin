{
 "cells": [
  {
   "cell_type": "code",
   "execution_count": 1,
   "metadata": {},
   "outputs": [
    {
     "name": "stderr",
     "output_type": "stream",
     "text": [
      "Using TensorFlow backend.\n"
     ]
    }
   ],
   "source": [
    "from utils import *\n",
    "\n",
    "import os, cv2\n",
    "import numpy as np\n",
    "from matplotlib import pyplot as plt"
   ]
  },
  {
   "cell_type": "code",
   "execution_count": 48,
   "metadata": {},
   "outputs": [],
   "source": [
    "def data_loader(PATH, val_idx = 0):\n",
    "    train_t1 = None\n",
    "    train_dante = None\n",
    "    Pat_lists = sorted(os.listdir(PATH))\n",
    "    val_pat = Pat_lists[val_idx]\n",
    "    Pat_lists.pop(val_idx)\n",
    "    for i, pat in enumerate(Pat_lists):\n",
    "        Pat_path = os.path.join(PATH, pat)\n",
    "        tmp_t1, tmp_dante, _ = load_nii_multi(Pat_path)\n",
    "        tmp_dante = np.transpose(tmp_dante, [2, 0, 1])\n",
    "        tmp_dante = np.reshape(tmp_dante, [len(tmp_dante)//6, 6, 320, 256])\n",
    "        tmp_dante = np.transpose(tmp_dante, [0, 2, 3, 1])\n",
    "        tmp_t1 = np.expand_dims(np.transpose(tmp_t1, [2, 0, 1]), -1)\n",
    "        if i==0:\n",
    "            train_t1 = tmp_t1\n",
    "            train_dante = tmp_dante\n",
    "        else:\n",
    "            train_t1 = np.concatenate([t1, tmp_t1], axis=0)\n",
    "            train_dante = np.concatenate([dante, tmp_dante], axis=0)\n",
    "    \n",
    "    Pat_path = os.path.join(PATH, val_pat)\n",
    "    val_t1, val_dante, _ = load_nii_multi(Pat_path)\n",
    "    val_dante = np.transpose(val_dante, [2, 0, 1])\n",
    "    val_dante = np.reshape(val_dante, [len(val_dante)//6, 6, 320, 256])\n",
    "    val_dante = np.transpose(val_dante, [0, 2, 3, 1])\n",
    "    val_t1 = np.expand_dims(np.transpose(val_t1, [2, 0, 1]), -1)\n",
    "    \n",
    "    return train_t1, train_dante, val_t1, val_dante"
   ]
  },
  {
   "cell_type": "code",
   "execution_count": 49,
   "metadata": {},
   "outputs": [
    {
     "name": "stdout",
     "output_type": "stream",
     "text": [
      "(366, 320, 256, 1)\n",
      "(366, 320, 256, 6)\n",
      "(26, 320, 256, 1)\n",
      "(26, 320, 256, 6)\n"
     ]
    }
   ],
   "source": [
    "Data_root = '../MRI Enhancing/4gan_m'\n",
    "train_t1, train_dante, val_t1, val_dante = data_loader(Data_root)\n",
    "\n",
    "print(train_t1.shape)\n",
    "print(train_dante.shape)\n",
    "print(val_t1.shape)\n",
    "print(val_dante.shape)"
   ]
  },
  {
   "cell_type": "code",
   "execution_count": null,
   "metadata": {},
   "outputs": [],
   "source": []
  }
 ],
 "metadata": {
  "kernelspec": {
   "display_name": "Python 3",
   "language": "python",
   "name": "python3"
  },
  "language_info": {
   "codemirror_mode": {
    "name": "ipython",
    "version": 3
   },
   "file_extension": ".py",
   "mimetype": "text/x-python",
   "name": "python",
   "nbconvert_exporter": "python",
   "pygments_lexer": "ipython3",
   "version": "3.6.8"
  }
 },
 "nbformat": 4,
 "nbformat_minor": 2
}
