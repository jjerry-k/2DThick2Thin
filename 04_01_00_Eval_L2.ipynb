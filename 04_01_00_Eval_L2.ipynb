{
 "cells": [
  {
   "cell_type": "code",
   "execution_count": 1,
   "metadata": {},
   "outputs": [],
   "source": [
    "from tensorflow.keras import models, optimizers, losses\n",
    "from utils import *\n",
    "from network import *\n",
    "from metrics import *\n",
    "from ipywidgets import interact\n",
    "from matplotlib import pyplot as plt\n",
    "import cv2"
   ]
  },
  {
   "cell_type": "code",
   "execution_count": 14,
   "metadata": {},
   "outputs": [
    {
     "name": "stdout",
     "output_type": "stream",
     "text": [
      "Train X's shape :  (303, 320, 256, 3)\n",
      "Train Y's shape :  (303, 320, 256, 12)\n",
      "Validation X's shape :  (25, 320, 256, 3)\n",
      "Validation Y's shape :  (25, 320, 256, 12)\n",
      "Test X's shape :  (342, 320, 256, 3)\n"
     ]
    }
   ],
   "source": [
    "train_low, train_high, val_low, val_high, test_low = data_loader_v3('./interpolation/')\n",
    "print(\"Train X's shape : \", train_low.shape)\n",
    "print(\"Train Y's shape : \", train_high.shape)\n",
    "print(\"Validation X's shape : \", val_low.shape)\n",
    "print(\"Validation Y's shape : \", val_high.shape)\n",
    "print(\"Test X's shape : \", test_low.shape)\n"
   ]
  },
  {
   "cell_type": "code",
   "execution_count": 9,
   "metadata": {},
   "outputs": [
    {
     "data": {
      "text/plain": [
       "'model.h5'"
      ]
     },
     "execution_count": 9,
     "metadata": {},
     "output_type": "execute_result"
    }
   ],
   "source": [
    "root_path = './checkpoint/3to12/dense_L1/'\n",
    "model_path = root_path+'model.h5'\n",
    "\n",
    "weights_list = sorted(os.listdir(root_path))\n",
    "weights_list = [i for i in weights_list if '.h5' in i]\n",
    "weights_list.pop(-1)\n",
    "#print(weights_list)"
   ]
  },
  {
   "cell_type": "code",
   "execution_count": 10,
   "metadata": {},
   "outputs": [
    {
     "data": {
      "text/plain": [
       "['0100_20.99_20.34.h5',\n",
       " '0200_16.75_25.59.h5',\n",
       " '0300_15.61_19.31.h5',\n",
       " '0400_13.56_21.44.h5',\n",
       " '0500_12.86_23.15.h5',\n",
       " '0600_12.22_23.05.h5',\n",
       " '0700_11.77_19.94.h5',\n",
       " '0800_11.62_22.15.h5',\n",
       " '0900_11.25_19.48.h5',\n",
       " '1000_10.59_18.97.h5',\n",
       " '1100_10.75_18.97.h5',\n",
       " '1200_10.49_19.18.h5',\n",
       " '1300_10.09_21.77.h5',\n",
       " '1400_10.04_19.33.h5',\n",
       " '1500_9.90_19.83.h5']"
      ]
     },
     "execution_count": 10,
     "metadata": {},
     "output_type": "execute_result"
    }
   ],
   "source": [
    "weights_list"
   ]
  },
  {
   "cell_type": "code",
   "execution_count": 11,
   "metadata": {},
   "outputs": [
    {
     "name": "stdout",
     "output_type": "stream",
     "text": [
      "WARNING:tensorflow:From C:\\Users\\user\\Anaconda3\\lib\\site-packages\\tensorflow\\python\\ops\\resource_variable_ops.py:435: colocate_with (from tensorflow.python.framework.ops) is deprecated and will be removed in a future version.\n",
      "Instructions for updating:\n",
      "Colocations handled automatically by placer.\n"
     ]
    }
   ],
   "source": [
    "A = models.load_model(model_path, compile=False)\n",
    "A.load_weights(root_path+weights_list[-1])\n",
    "A.compile(optimizer=optimizers.Adam(lr=0.0001, epsilon=1e-8),\n",
    "          loss=[losses.mean_squared_error, losses.binary_crossentropy], \n",
    "          loss_weights=[50, 1])"
   ]
  },
  {
   "cell_type": "code",
   "execution_count": 12,
   "metadata": {},
   "outputs": [
    {
     "name": "stdout",
     "output_type": "stream",
     "text": [
      "(303, 320, 256, 12)\n",
      "(25, 320, 256, 12)\n"
     ]
    }
   ],
   "source": [
    "train_, _ = A.predict(train_low)\n",
    "val_, _ = A.predict(val_low)\n",
    "print(train_.shape)\n",
    "print(val_.shape)"
   ]
  },
  {
   "cell_type": "markdown",
   "metadata": {},
   "source": [
    "$$\n",
    "MSE = \\frac{1}{n} \\sum^n{(y-\\hat{y})^2}\n",
    "$$\n",
    "\n",
    "$$\n",
    "RMSE = \\sqrt{MSE} = \\sqrt{\\frac{1}{n} \\sum^n{(y-\\hat{y})^2}}\n",
    "$$\n",
    "\n",
    "$$\n",
    "RMSPE = \\sqrt{\\frac{1}{n} \\sum^n({\\frac{y-\\hat{y}}{y}})^2}\n",
    "$$\n",
    "\n",
    "$$\n",
    "PSNR = 10\\log_{10}(\\frac{MAX}{\\sqrt{MSE}}) = 20\\log_{10}{MAX} - 10\\log_{10}\\sqrt{MSE}\n",
    "$$\n",
    "\n",
    "$$\n",
    "SSIM = I(x,y)C(x,y)S(x,y)\n",
    "$$"
   ]
  },
  {
   "cell_type": "code",
   "execution_count": 15,
   "metadata": {},
   "outputs": [
    {
     "name": "stdout",
     "output_type": "stream",
     "text": [
      "(303, 12) 6456.025211499268\n",
      "(303, 12) 73.36827672959285\n",
      "(303, 12) 6.420254516078681\n",
      "(303, 12) 59.7958347332202\n",
      "(303, 12) 0.9949318672606428\n"
     ]
    }
   ],
   "source": [
    "train_mse = MSE(train_high, train_)\n",
    "train_rmse = RMSE(train_high, train_)\n",
    "train_rmspe = RMSPE(train_high, train_)\n",
    "train_psnr = PSNR(train_high, train_, 65535)\n",
    "train_ssim = SSIM(train_high, train_, 65535)\n",
    "\n",
    "print(train_mse.shape, train_mse.mean())\n",
    "print(train_rmse.shape, train_rmse.mean())\n",
    "print(train_rmspe.shape, train_rmspe.mean())\n",
    "print(train_psnr.shape, train_psnr.mean())\n",
    "print(train_ssim.shape, train_ssim.mean())"
   ]
  },
  {
   "cell_type": "code",
   "execution_count": 16,
   "metadata": {},
   "outputs": [
    {
     "name": "stdout",
     "output_type": "stream",
     "text": [
      "(25, 12) 4874.320013251561\n",
      "(25, 12) 64.89813874813738\n",
      "(25, 12) 6.201660870348653\n",
      "(25, 12) 60.734977396240474\n",
      "(25, 12) 0.9958427578510829\n"
     ]
    }
   ],
   "source": [
    "val_mse = MSE(val_high, val_)\n",
    "val_rmse = RMSE(val_high, val_)\n",
    "val_rmspe = RMSPE(val_high, val_)\n",
    "val_psnr = PSNR(val_high, val_, 65535)\n",
    "val_ssim = SSIM(val_high, val_, 65535)\n",
    "\n",
    "print(val_mse.shape, val_mse.mean())\n",
    "print(val_rmse.shape, val_rmse.mean())\n",
    "print(val_rmspe.shape, val_rmspe.mean())\n",
    "print(val_psnr.shape, val_psnr.mean())\n",
    "print(val_ssim.shape, val_ssim.mean())"
   ]
  },
  {
   "cell_type": "code",
   "execution_count": 17,
   "metadata": {},
   "outputs": [
    {
     "data": {
      "text/plain": [
       "1963.24402359128"
      ]
     },
     "execution_count": 17,
     "metadata": {},
     "output_type": "execute_result"
    }
   ],
   "source": [
    "train_high.max()"
   ]
  },
  {
   "cell_type": "code",
   "execution_count": 18,
   "metadata": {},
   "outputs": [
    {
     "data": {
      "text/plain": [
       "2403.725"
      ]
     },
     "execution_count": 18,
     "metadata": {},
     "output_type": "execute_result"
    }
   ],
   "source": [
    "train_.max()"
   ]
  },
  {
   "cell_type": "code",
   "execution_count": 19,
   "metadata": {},
   "outputs": [],
   "source": [
    "def plot_result(y_pred, y_true, mode=12):\n",
    "    # img : [Slices, Height, Width, 12]\n",
    "    b, h, w, _ = y_pred.shape\n",
    "    \n",
    "    if mode == 12:\n",
    "        tmp_pred = y_pred[...,3:-3]\n",
    "        tmp_pred = np.transpose(tmp_pred, [0, 3, 1, 2])\n",
    "        tmp_pred = np.reshape(tmp_pred, [b*6, h, w])\n",
    "\n",
    "        tmp_true = y_true[...,3:-3]\n",
    "        tmp_true = np.transpose(tmp_true, [0, 3, 1, 2])\n",
    "        tmp_true = np.reshape(tmp_true, [b*6, h, w])\n",
    "    \n",
    "    elif mode ==6:\n",
    "        tmp_pred = np.transpose(y_pred, [0, 3, 1, 2])\n",
    "        tmp_pred = np.reshape(tmp_pred, [b*6, h, w])\n",
    "        \n",
    "        tmp_true = np.transpose(y_true, [0, 3, 1, 2])\n",
    "        tmp_true = np.reshape(tmp_true, [b*6, h, w])\n",
    "        \n",
    "        \n",
    "    max_idx = len(tmp_pred)-1\n",
    "    err_min = (tmp_true-tmp_pred).min()\n",
    "    err_max = (tmp_true-tmp_pred).max()\n",
    "    \n",
    "    def plot(idx=0):\n",
    "        plt.figure(figsize=(12, 6))\n",
    "        plt.subplot(131)\n",
    "        plt.title(\"y_pred\")\n",
    "        plt.imshow(tmp_pred[idx], cmap='gray', vmin=0, vmax=tmp_true.max())\n",
    "        plt.xlabel(\"%.2f\"%(tmp_pred[idx].max()))\n",
    "        plt.subplot(132)\n",
    "        plt.title(\"y_true\")\n",
    "        plt.imshow(tmp_true[idx], cmap='gray', vmax=tmp_true.max())\n",
    "        plt.xlabel(\"%.2f\"%(tmp_true[idx].max()))\n",
    "        plt.subplot(133)\n",
    "        plt.title(\"Error (true - pred)\")\n",
    "        plt.imshow(tmp_true[idx]-tmp_pred[idx], cmap='gray', vmin = err_min, vmax=err_max)\n",
    "    interact(plot, idx=(0, max_idx, 1))"
   ]
  },
  {
   "cell_type": "code",
   "execution_count": 21,
   "metadata": {},
   "outputs": [
    {
     "data": {
      "application/vnd.jupyter.widget-view+json": {
       "model_id": "32691650e9ee4d2d9a459ce05e18b52a",
       "version_major": 2,
       "version_minor": 0
      },
      "text/plain": [
       "interactive(children=(IntSlider(value=0, description='idx', max=1817), Output()), _dom_classes=('widget-intera…"
      ]
     },
     "metadata": {},
     "output_type": "display_data"
    }
   ],
   "source": [
    "plot_result(train_, train_high, 12)"
   ]
  },
  {
   "cell_type": "code",
   "execution_count": 12,
   "metadata": {},
   "outputs": [
    {
     "data": {
      "application/vnd.jupyter.widget-view+json": {
       "model_id": "c27fdd1c3a484913b210eb70c3e3faef",
       "version_major": 2,
       "version_minor": 0
      },
      "text/plain": [
       "interactive(children=(IntSlider(value=0, description='idx', max=1817), Output()), _dom_classes=('widget-intera…"
      ]
     },
     "metadata": {},
     "output_type": "display_data"
    }
   ],
   "source": [
    "plot_result(train_, train_high)"
   ]
  }
 ],
 "metadata": {
  "kernelspec": {
   "display_name": "Python 3",
   "language": "python",
   "name": "python3"
  },
  "language_info": {
   "codemirror_mode": {
    "name": "ipython",
    "version": 3
   },
   "file_extension": ".py",
   "mimetype": "text/x-python",
   "name": "python",
   "nbconvert_exporter": "python",
   "pygments_lexer": "ipython3",
   "version": "3.6.8"
  }
 },
 "nbformat": 4,
 "nbformat_minor": 2
}
