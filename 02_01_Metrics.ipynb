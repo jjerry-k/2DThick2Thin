{
 "cells": [
  {
   "cell_type": "code",
   "execution_count": 10,
   "metadata": {},
   "outputs": [],
   "source": [
    "from ipywidgets import interact"
   ]
  },
  {
   "cell_type": "code",
   "execution_count": 1,
   "metadata": {},
   "outputs": [
    {
     "name": "stderr",
     "output_type": "stream",
     "text": [
      "Using TensorFlow backend.\n"
     ]
    }
   ],
   "source": [
    "from utils import *\n",
    "import numpy as np\n",
    "from matplotlib import pyplot as plt\n",
    "\n",
    "from skimage.measure import compare_ssim as ssim\n",
    "from skimage.measure import compare_psnr as psnr\n",
    "from skimage.measure import compare_mse as mse\n",
    "from skimage.measure import compare_nrmse as nrmse"
   ]
  },
  {
   "cell_type": "code",
   "execution_count": 2,
   "metadata": {},
   "outputs": [
    {
     "name": "stdout",
     "output_type": "stream",
     "text": [
      "Train X's shape :  (303, 320, 256, 3)\n",
      "Train Y's shape :  (303, 320, 256, 6)\n",
      "Validation X's shape :  (25, 320, 256, 3)\n",
      "Validation Y's shape :  (25, 320, 256, 6)\n",
      "Test X's shape :  (328, 320, 256, 3)\n"
     ]
    }
   ],
   "source": [
    "train_low, train_high, val_low, val_high, test_low = data_loader_v2('../MRI Enhancing/4gan_m')\n",
    "print(\"Train X's shape : \", train_low.shape)\n",
    "print(\"Train Y's shape : \", train_high.shape)\n",
    "print(\"Validation X's shape : \", val_low.shape)\n",
    "print(\"Validation Y's shape : \", val_high.shape)\n",
    "print(\"Test X's shape : \", test_low.shape)"
   ]
  },
  {
   "cell_type": "code",
   "execution_count": 3,
   "metadata": {},
   "outputs": [],
   "source": [
    "test = np.zeros((25, 320, 256, 12))\n",
    "\n",
    "test[1:,...,:3] = val_high[:-1,...,3:]\n",
    "test[...,3:-3] = val_high.copy()\n",
    "test[:-1,...,-3:] = val_high[1:,...,:3]"
   ]
  },
  {
   "cell_type": "code",
   "execution_count": 17,
   "metadata": {},
   "outputs": [],
   "source": [
    "def plot_fn_single(img):\n",
    "    mdx = len(img)-1\n",
    "    def plot(idx=0):\n",
    "        plt.figure(figsize=(20, 10))\n",
    "        for i in range(12):\n",
    "            plt.subplot(2, 6, i+1)\n",
    "            plt.imshow(img[idx, ..., i], cmap='gray', vmin=0, vmax=img[idx].max())\n",
    "            plt.xlabel(\"%f ~ %f\"%(0, img[idx, ..., i].max()))\n",
    "    interact(plot, idx=(0, mdx, 1))"
   ]
  },
  {
   "cell_type": "code",
   "execution_count": 18,
   "metadata": {},
   "outputs": [
    {
     "data": {
      "application/vnd.jupyter.widget-view+json": {
       "model_id": "0c809f30f903498ea5979440e22b1524",
       "version_major": 2,
       "version_minor": 0
      },
      "text/plain": [
       "interactive(children=(IntSlider(value=0, description='idx', max=24), Output()), _dom_classes=('widget-interact…"
      ]
     },
     "metadata": {},
     "output_type": "display_data"
    }
   ],
   "source": [
    "plot_fn_single(test)"
   ]
  },
  {
   "cell_type": "code",
   "execution_count": null,
   "metadata": {},
   "outputs": [],
   "source": [
    "ssim(train_high[0,...,0], train_low[0,...,0])"
   ]
  },
  {
   "cell_type": "markdown",
   "metadata": {},
   "source": [
    "$$\n",
    "SSIM(x, y) = \\frac{(2\\mu_x\\mu_y+C_1)(2\\sigma_{xy}+C_2)}{(\\mu^2_x+\\mu^2_y+C_1)(\\sigma^2_x+\\sigma^2_y+C_2)}\n",
    "$$"
   ]
  },
  {
   "cell_type": "code",
   "execution_count": null,
   "metadata": {},
   "outputs": [],
   "source": [
    "SSIM(train_high[0:1,...,0:1], train_low[0:1,...,0:1], data_range=65535)"
   ]
  },
  {
   "cell_type": "code",
   "execution_count": null,
   "metadata": {},
   "outputs": [],
   "source": [
    "def SSIM(y_true, y_pred, data_range=65535):\n",
    "    _, h, w, _ = y_true.shape\n",
    "    C1 = (0.01*data_range)**2\n",
    "    C2 = (0.03*data_range)**2\n",
    "    \n",
    "    mu_true = np.mean(y_true, axis=(1,2), keepdims=True)\n",
    "    mu_pred = np.mean(y_pred, axis=(1,2), keepdims=True)\n",
    "    \n",
    "    std_true = np.std(y_true, axis=(1,2))\n",
    "    std_pred = np.std(y_pred, axis=(1,2))\n",
    "    \n",
    "    cov = np.sum((y_true - mu_true)*(y_pred - mu_pred), axis=(1, 2))/(h*w-1)\n",
    "    \n",
    "    A = 2*mu_true.squeeze(axis=(1, 2))*mu_pred.squeeze(axis=(1, 2)) + C1\n",
    "    B = 2*cov + C2\n",
    "    C = mu_true.squeeze(axis=(1, 2))**2 + mu_pred.squeeze(axis=(1, 2))**2 + C1\n",
    "    D = std_true**2 + std_pred**2 + C2\n",
    "    \n",
    "    return (A+B+1)/(C+D+1)"
   ]
  }
 ],
 "metadata": {
  "kernelspec": {
   "display_name": "Python 3",
   "language": "python",
   "name": "python3"
  },
  "language_info": {
   "codemirror_mode": {
    "name": "ipython",
    "version": 3
   },
   "file_extension": ".py",
   "mimetype": "text/x-python",
   "name": "python",
   "nbconvert_exporter": "python",
   "pygments_lexer": "ipython3",
   "version": "3.6.8"
  }
 },
 "nbformat": 4,
 "nbformat_minor": 2
}
