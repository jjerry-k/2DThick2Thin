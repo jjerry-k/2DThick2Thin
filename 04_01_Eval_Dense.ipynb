{
 "cells": [
  {
   "cell_type": "code",
   "execution_count": 1,
   "metadata": {},
   "outputs": [
    {
     "name": "stderr",
     "output_type": "stream",
     "text": [
      "Using TensorFlow backend.\n"
     ]
    }
   ],
   "source": [
    "from keras import models, optimizers, losses\n",
    "from keras import backend as K\n",
    "from keras.utils import Progbar\n",
    "from utils import *\n",
    "from network import *\n",
    "from metrics import *\n",
    "from matplotlib import pyplot as plt\n",
    "import cv2"
   ]
  },
  {
   "cell_type": "code",
   "execution_count": 2,
   "metadata": {},
   "outputs": [
    {
     "name": "stdout",
     "output_type": "stream",
     "text": [
      "Train X's shape :  (303, 320, 256, 3)\n",
      "Train Y's shape :  (303, 320, 256, 12)\n",
      "Validation X's shape :  (25, 320, 256, 3)\n",
      "Validation Y's shape :  (25, 320, 256, 12)\n",
      "Test X's shape :  (342, 320, 256, 3)\n"
     ]
    }
   ],
   "source": [
    "train_low, train_high, val_low, val_high, test_low = data_loader_v3('./interpolation/')\n",
    "print(\"Train X's shape : \", train_low.shape)\n",
    "print(\"Train Y's shape : \", train_high.shape)\n",
    "print(\"Validation X's shape : \", val_low.shape)\n",
    "print(\"Validation Y's shape : \", val_high.shape)\n",
    "print(\"Test X's shape : \", test_low.shape)"
   ]
  },
  {
   "cell_type": "code",
   "execution_count": 13,
   "metadata": {},
   "outputs": [],
   "source": [
    "checkpoint_list = sorted(os.listdir('./checkpoint/case3/dense'))\n",
    "checkpoint_list = [float(i.split('_')[1][:-3]) for i in checkpoint_list]"
   ]
  },
  {
   "cell_type": "code",
   "execution_count": 15,
   "metadata": {},
   "outputs": [
    {
     "data": {
      "text/plain": [
       "[<matplotlib.lines.Line2D at 0x1ffa439a080>]"
      ]
     },
     "execution_count": 15,
     "metadata": {},
     "output_type": "execute_result"
    },
    {
     "data": {
      "image/png": "[encoded data removed]",
      "text/plain": [
       "<Figure size 432x288 with 1 Axes>"
      ]
     },
     "metadata": {
      "needs_background": "light"
     },
     "output_type": "display_data"
    }
   ],
   "source": [
    "plt.plot(checkpoint_list, 'r.')"
   ]
  },
  {
   "cell_type": "code",
   "execution_count": 16,
   "metadata": {},
   "outputs": [],
   "source": [
    "A = models.load_model('./checkpoint/case3/dense/1500_28700.89.h5', compile=False)"
   ]
  },
  {
   "cell_type": "code",
   "execution_count": 18,
   "metadata": {},
   "outputs": [],
   "source": [
    "A.compile(optimizer=optimizers.Adam(lr=0.0001, epsilon=1e-8), loss=[losses.mean_squared_error, losses.binary_crossentropy], loss_weights=[50, 1])"
   ]
  },
  {
   "cell_type": "code",
   "execution_count": 25,
   "metadata": {},
   "outputs": [
    {
     "data": {
      "text/plain": [
       "[<tf.Tensor 'conv2d_6/Relu:0' shape=(?, ?, ?, 12) dtype=float32>,\n",
       " <tf.Tensor 'model_2/dense_1/Sigmoid:0' shape=(?, 1) dtype=float32>]"
      ]
     },
     "execution_count": 25,
     "metadata": {},
     "output_type": "execute_result"
    }
   ],
   "source": [
    "A.output"
   ]
  },
  {
   "cell_type": "code",
   "execution_count": 28,
   "metadata": {},
   "outputs": [
    {
     "data": {
      "text/plain": [
       "[96876.484, 1937.5297, 2.4318712e-07]"
      ]
     },
     "execution_count": 28,
     "metadata": {},
     "output_type": "execute_result"
    }
   ],
   "source": [
    "A.test_on_batch(val_low, [val_high, np.ones((len(val_low), 1))])"
   ]
  },
  {
   "cell_type": "code",
   "execution_count": 5,
   "metadata": {},
   "outputs": [
    {
     "name": "stdout",
     "output_type": "stream",
     "text": [
      "(303, 320, 256, 6)\n",
      "(25, 320, 256, 6)\n"
     ]
    }
   ],
   "source": [
    "train_, _ = A.predict(train_low)\n",
    "val_, _ = A.predict(val_low)\n",
    "print(train_.shape)\n",
    "print(val_.shape)"
   ]
  },
  {
   "cell_type": "code",
   "execution_count": 35,
   "metadata": {},
   "outputs": [
    {
     "name": "stdout",
     "output_type": "stream",
     "text": [
      "(303, 6) 1264.6795439560594\n",
      "(303, 6) 32.636808728096646\n",
      "(303, 6) 3.5893692097179297\n",
      "(303, 6) 66.77439599780611\n"
     ]
    }
   ],
   "source": [
    "train_mse = MSE(train_high, train_)\n",
    "train_rmse = RMSE(train_high, train_)\n",
    "train_rmspe = RMSPE(train_high, train_)\n",
    "train_psnr = PSNR(train_high, train_, 65535)\n",
    "\n",
    "print(train_mse.shape, train_mse.mean())\n",
    "print(train_rmse.shape, train_rmse.mean())\n",
    "print(train_rmspe.shape, train_rmspe.mean())\n",
    "print(train_psnr.shape, train_psnr.mean())"
   ]
  },
  {
   "cell_type": "code",
   "execution_count": 34,
   "metadata": {},
   "outputs": [
    {
     "name": "stdout",
     "output_type": "stream",
     "text": [
      "(25, 6) 1742.5762055426292\n",
      "(25, 6) 39.38365392583606\n",
      "(25, 6) 4.551850361989916\n",
      "(25, 6) 64.94743179710387\n"
     ]
    }
   ],
   "source": [
    "val_mse = MSE(val_high, val_)\n",
    "val_rmse = RMSE(val_high, val_)\n",
    "val_rmspe = RMSPE(val_high, val_)\n",
    "val_psnr = PSNR(val_high, val_, 65535)\n",
    "\n",
    "print(val_mse.shape, val_mse.mean())\n",
    "print(val_rmse.shape, val_rmse.mean())\n",
    "print(val_rmspe.shape, val_rmspe.mean())\n",
    "print(val_psnr.shape, val_psnr.mean())"
   ]
  },
  {
   "cell_type": "markdown",
   "metadata": {},
   "source": [
    "$$\n",
    "MSE = \\frac{1}{n} \\sum^n{(y-\\hat{y})^2}\n",
    "$$\n",
    "\n",
    "$$\n",
    "RMSE = \\sqrt{MSE} = \\sqrt{\\frac{1}{n} \\sum^n{(y-\\hat{y})^2}}\n",
    "$$\n",
    "\n",
    "$$\n",
    "RMSPE = \\sqrt{\\frac{1}{n} \\sum^n({\\frac{y-\\hat{y}}{y}})^2}\n",
    "$$\n",
    "\n",
    "$$\n",
    "PSNR = 10\\log_{10}(\\frac{MAX}{\\sqrt{MSE}}) = 20\\log_{10}{MAX} - 10\\log_{10}\\sqrt{MSE}\n",
    "$$\n",
    "\n",
    "$$\n",
    "SSIM = I(x,y)C(x,y)S(x,y)\n",
    "$$"
   ]
  }
 ],
 "metadata": {
  "kernelspec": {
   "display_name": "Python 3",
   "language": "python",
   "name": "python3"
  },
  "language_info": {
   "codemirror_mode": {
    "name": "ipython",
    "version": 3
   },
   "file_extension": ".py",
   "mimetype": "text/x-python",
   "name": "python",
   "nbconvert_exporter": "python",
   "pygments_lexer": "ipython3",
   "version": "3.6.8"
  }
 },
 "nbformat": 4,
 "nbformat_minor": 2
}
