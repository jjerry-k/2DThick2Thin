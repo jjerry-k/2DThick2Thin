{
 "cells": [
  {
   "cell_type": "code",
   "execution_count": 2,
   "metadata": {},
   "outputs": [],
   "source": [
    "import os, cv2\n",
    "import numpy as np\n",
    "import nibabel as nib\n",
    "from matplotlib import pyplot as plt"
   ]
  },
  {
   "cell_type": "code",
   "execution_count": 3,
   "metadata": {},
   "outputs": [],
   "source": [
    "DATA_ROOT = '../MRI Enhancing/4gan/'\n",
    "CD_LISTS = ['01', '02']\n",
    "SEQ_LISTS = ['t1setrafs', 'T1SPACE09mmISOPOSTwDANTE', 't2tsetra']"
   ]
  },
  {
   "cell_type": "code",
   "execution_count": 17,
   "metadata": {},
   "outputs": [],
   "source": [
    "CD_IDX = 0\n",
    "PAT_LISTS = sorted(os.listdir(DATA_ROOT+CD_LISTS[CD_IDX]))\n",
    "\n",
    "PAT_IDX = 0\n",
    "SEQ_IDX = 0\n",
    "PAT_PATH = os.path.join(DATA_ROOT, CD_LISTS[CD_IDX], \n",
    "                        PAT_LISTS[PAT_IDX], SEQ_LISTS[SEQ_IDX])\n",
    "PAT_PATH = os.path.join(PAT_PATH, os.listdir(PAT_PATH)[0])\n",
    "\n",
    "IMG_LISTS = sorted(os.listdir(PAT_PATH))\n",
    "IMG_LISTS = [img for img in IMG_LISTS if '.nii' in img]\n",
    "IMG_IDX = 0\n",
    "IMG_PATHS = os.path.join(PAT_PATH, IMG_LISTS[IMG_IDX])"
   ]
  },
  {
   "cell_type": "code",
   "execution_count": 30,
   "metadata": {},
   "outputs": [],
   "source": [
    "def load_nii(PATH):\n",
    "    '''\n",
    "    Input\n",
    "    PATH : Path of Nifti file\n",
    "    \n",
    "    Output\n",
    "    output : Image of Nifti [Height, Width, Slices]\n",
    "    '''\n",
    "    data = nib.load(PATH)\n",
    "    img = data.get_data()\n",
    "    img = np.rot90(img)\n",
    "    \n",
    "    return img"
   ]
  }
 ],
 "metadata": {
  "kernelspec": {
   "display_name": "Python 3",
   "language": "python",
   "name": "python3"
  },
  "language_info": {
   "codemirror_mode": {
    "name": "ipython",
    "version": 3
   },
   "file_extension": ".py",
   "mimetype": "text/x-python",
   "name": "python",
   "nbconvert_exporter": "python",
   "pygments_lexer": "ipython3",
   "version": "3.6.8"
  }
 },
 "nbformat": 4,
 "nbformat_minor": 2
}
