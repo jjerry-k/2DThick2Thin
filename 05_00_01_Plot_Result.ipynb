{
 "cells": [
  {
   "cell_type": "code",
   "execution_count": 1,
   "metadata": {},
   "outputs": [],
   "source": [
    "from tensorflow.keras import models, optimizers, losses\n",
    "from utils import *\n",
    "from loss import *\n",
    "from network import *\n",
    "from metrics import *\n",
    "from ipywidgets import interact\n",
    "from IPython.display import clear_output\n",
    "from matplotlib import pyplot as plt\n",
    "import cv2\n",
    "import pandas as pd"
   ]
  },
  {
   "cell_type": "code",
   "execution_count": 2,
   "metadata": {},
   "outputs": [
    {
     "name": "stdout",
     "output_type": "stream",
     "text": [
      "Train X's shape :  (303, 320, 256, 3)\n",
      "Train Y's shape :  (303, 320, 256, 6)\n",
      "Validation X's shape :  (25, 320, 256, 3)\n",
      "Validation Y's shape :  (25, 320, 256, 6)\n",
      "Test X's shape :  (328, 320, 256, 3)\n"
     ]
    }
   ],
   "source": [
    "train_low, train_high, val_low, val_high, test_low = data_loader_v2('./interpolation/')\n",
    "print(\"Train X's shape : \", train_low.shape)\n",
    "print(\"Train Y's shape : \", train_high.shape)\n",
    "print(\"Validation X's shape : \", val_low.shape)\n",
    "print(\"Validation Y's shape : \", val_high.shape)\n",
    "print(\"Test X's shape : \", test_low.shape)\n"
   ]
  },
  {
   "cell_type": "code",
   "execution_count": 3,
   "metadata": {},
   "outputs": [
    {
     "name": "stdout",
     "output_type": "stream",
     "text": [
      "(320, 256, 150)\n",
      "(320, 256, 25)\n"
     ]
    }
   ],
   "source": [
    "test_high = np.reshape(np.transpose(val_high, [1, 2, 0, 3]), [320, 256, 150])\n",
    "test_low = np.transpose(val_low[...,1], [1,2,0])\n",
    "\n",
    "print(test_high.shape)\n",
    "print(test_low.shape)"
   ]
  },
  {
   "cell_type": "code",
   "execution_count": 4,
   "metadata": {},
   "outputs": [],
   "source": [
    "def bilinear(img3d):\n",
    "    h, w, c = img3d.shape\n",
    "    axis1 = np.array([cv2.resize(img3d[i, ...], (c*6, w), interpolation=cv2.INTER_LINEAR) for i in range(h)])\n",
    "    axis2 = np.array([cv2.resize(img3d[:, i, :], (c*6, h), interpolation=cv2.INTER_LINEAR) for i in range(w)])\n",
    "    output = (axis1 + np.transpose(axis2, [1, 0, 2]))/2\n",
    "    return output\n",
    "\n",
    "\n",
    "def bicubic(img3d):\n",
    "    h, w, c = img3d.shape\n",
    "    axis1 = np.array([cv2.resize(img3d[i, ...], (c*6, w), interpolation=cv2.INTER_CUBIC) for i in range(h)])\n",
    "    axis2 = np.array([cv2.resize(img3d[:, i, :], (c*6, h), interpolation=cv2.INTER_CUBIC) for i in range(w)])\n",
    "    output = (axis1 + np.transpose(axis2, [1, 0, 2]))/2\n",
    "    return output\n",
    "\n",
    "def lanc(img3d):\n",
    "    h, w, c = img3d.shape\n",
    "    axis1 = np.array([cv2.resize(img3d[i, ...], (c*6, w), interpolation=cv2.INTER_LANCZOS4) for i in range(h)])\n",
    "    axis2 = np.array([cv2.resize(img3d[:, i, :], (c*6, h), interpolation=cv2.INTER_LANCZOS4) for i in range(w)])\n",
    "    output = (axis1 + np.transpose(axis2, [1, 0, 2]))/2\n",
    "    return output"
   ]
  },
  {
   "cell_type": "code",
   "execution_count": 15,
   "metadata": {},
   "outputs": [],
   "source": [
    "def orthoview(result):\n",
    "    h, w, c = result[0].shape\n",
    "    vmax = result[0].max()\n",
    "    def _plot(axial, coronal, saggital):\n",
    "        fig, ax = plt.subplots(3, 5, figsize=(20, 12))\n",
    "        \n",
    "        ax[0,0].set_title(\"Label\")\n",
    "        ax[0,0].set_ylabel(\"Axial\")\n",
    "        ax[0,0].imshow(result[0][..., axial], vmin=0, vmax=vmax, cmap='gray')\n",
    "        #ax[0,0].axis('off')\n",
    "        \n",
    "        #ax[1,0].set_title(\"Coronal\")\n",
    "        ax[1,0].set_ylabel(\"Coronal\")\n",
    "        ax[1,0].imshow(np.rot90(result[0][coronal, ...], 1), vmin=0, vmax=vmax, cmap='gray')\n",
    "        #ax[1,0].axis('off')\n",
    "        \n",
    "        #ax[2,0].set_title(\"Sgittal\")\n",
    "        ax[2,0].set_ylabel(\"Sagittal\")\n",
    "        ax[2,0].imshow(np.rot90(result[0][:,saggital,:], 1), vmin=0, vmax=vmax, cmap='gray')\n",
    "        #ax[2,0].axis('off')\n",
    "        \n",
    "        ax[0,1].set_title(\"Bilinear\")\n",
    "        ax[0,1].imshow(result[1][..., axial], vmin=0, vmax=vmax, cmap='gray')\n",
    "        ax[0,1].axis('off')\n",
    "        \n",
    "        #ax[1,1].set_title(\"Coronal\")\n",
    "        ax[1,1].imshow(np.rot90(result[1][coronal, ...], 1), vmin=0, vmax=vmax, cmap='gray')\n",
    "        ax[1,1].axis('off')\n",
    "        \n",
    "        #ax[2,1].set_title(\"Sagittal\")\n",
    "        ax[2,1].imshow(np.rot90(result[1][:,saggital,:], 1), vmin=0, vmax=vmax, cmap='gray')\n",
    "        ax[2,1].axis('off')\n",
    "        \n",
    "        ax[0,2].set_title(\"Bicubic\")\n",
    "        ax[0,2].imshow(result[2][..., axial], vmin=0, vmax=vmax, cmap='gray')\n",
    "        ax[0,2].axis('off')\n",
    "        \n",
    "        #ax[1,2].set_title(\"Coronal\")\n",
    "        ax[1,2].imshow(np.rot90(result[2][coronal, ...], 1), vmin=0, vmax=vmax, cmap='gray')\n",
    "        ax[1,2].axis('off')\n",
    "        \n",
    "        #ax[2,2].set_title(\"Sagittal\")\n",
    "        ax[2,2].imshow(np.rot90(result[2][:,saggital,:], 1), vmin=0, vmax=vmax, cmap='gray')\n",
    "        ax[2,2].axis('off')\n",
    "        \n",
    "        ax[0,3].set_title(\"Lanczos\")\n",
    "        ax[0,3].imshow(result[3][..., axial], vmin=0, vmax=vmax, cmap='gray')\n",
    "        ax[0,3].axis('off')\n",
    "        \n",
    "        #ax[1,3].set_title(\"Coronal\")\n",
    "        ax[1,3].imshow(np.rot90(result[3][coronal, ...], 1), vmin=0, vmax=vmax, cmap='gray')\n",
    "        ax[1,3].axis('off')\n",
    "        \n",
    "        #ax[2,3].set_title(\"Sagittal\")\n",
    "        ax[2,3].imshow(np.rot90(result[3][:,saggital,:], 1), vmin=0, vmax=vmax, cmap='gray')\n",
    "        ax[2,3].axis('off')\n",
    "        \n",
    "        ax[0,4].set_title(\"Proposed\")\n",
    "        ax[0,4].imshow(result[4][..., axial], vmin=0, vmax=vmax, cmap='gray')\n",
    "        ax[0,4].axis('off')\n",
    "        \n",
    "        #ax[1,3].set_title(\"Coronal\")\n",
    "        ax[1,4].imshow(np.rot90(result[4][coronal, ...], 1), vmin=0, vmax=vmax, cmap='gray')\n",
    "        ax[1,4].axis('off')\n",
    "        \n",
    "        #ax[2,3].set_title(\"Sagittal\")\n",
    "        ax[2,4].imshow(np.rot90(result[4][:,saggital,:], 1), vmin=0, vmax=vmax, cmap='gray')\n",
    "        ax[2,4].axis('off')\n",
    "        \n",
    "        fig.tight_layout()\n",
    "    interact(_plot, axial=(0,c-1,1), coronal=(0,h-1,1), saggital=(0,w-1,1), )"
   ]
  },
  {
   "cell_type": "code",
   "execution_count": 6,
   "metadata": {},
   "outputs": [
    {
     "name": "stdout",
     "output_type": "stream",
     "text": [
      "WARNING:tensorflow:From C:\\Users\\user\\Anaconda3\\lib\\site-packages\\tensorflow\\python\\ops\\resource_variable_ops.py:435: colocate_with (from tensorflow.python.framework.ops) is deprecated and will be removed in a future version.\n",
      "Instructions for updating:\n",
      "Colocations handled automatically by placer.\n"
     ]
    }
   ],
   "source": [
    "root_path = './checkpoint/3to6/unet_l2_mi/'\n",
    "\n",
    "model_path = root_path+'model.json'\n",
    "train_csv_path = root_path+'train_loss.csv'\n",
    "val_csv_path = root_path+'val_loss.csv'\n",
    "\n",
    "weights_list = sorted(os.listdir(root_path))\n",
    "weights_list = [i for i in weights_list if '.h5' in i]\n",
    "\n",
    "with open(model_path, 'r') as f:\n",
    "    model_json = f.read()\n",
    "\n",
    "A = models.model_from_json(model_json)\n",
    "\n",
    "A.load_weights(root_path+weights_list[-1])\n"
   ]
  },
  {
   "cell_type": "code",
   "execution_count": 7,
   "metadata": {},
   "outputs": [
    {
     "name": "stdout",
     "output_type": "stream",
     "text": [
      "(303, 320, 256, 6)\n",
      "(25, 320, 256, 6)\n"
     ]
    }
   ],
   "source": [
    "train_, _ = A.predict(train_low)\n",
    "val_, _ = A.predict(val_low)\n",
    "print(train_.shape)\n",
    "print(val_.shape)"
   ]
  },
  {
   "cell_type": "code",
   "execution_count": 8,
   "metadata": {},
   "outputs": [],
   "source": [
    "val_4vis = np.reshape(np.transpose(val_, [1, 2, 0, 3]), [320, 256, 150])"
   ]
  },
  {
   "cell_type": "code",
   "execution_count": 17,
   "metadata": {},
   "outputs": [],
   "source": [
    "bil = bilinear(test_low)\n",
    "bic = bicubic(test_low)\n",
    "lan = lanc(test_low)"
   ]
  },
  {
   "cell_type": "code",
   "execution_count": 18,
   "metadata": {},
   "outputs": [
    {
     "name": "stdout",
     "output_type": "stream",
     "text": [
      "(320, 256, 150)\n",
      "(320, 256, 150)\n",
      "(320, 256, 150)\n"
     ]
    }
   ],
   "source": [
    "print(bil.shape)\n",
    "print(bic.shape)\n",
    "print(lan.shape)"
   ]
  },
  {
   "cell_type": "code",
   "execution_count": 34,
   "metadata": {},
   "outputs": [
    {
     "data": {
      "image/png": "[encoded data removed]",
      "text/plain": [
       "<Figure size 1080x360 with 5 Axes>"
      ]
     },
     "metadata": {
      "needs_background": "light"
     },
     "output_type": "display_data"
    }
   ],
   "source": [
    "for i in range(bil.shape[-1]):\n",
    "    clear_output(wait=True)\n",
    "    vmin = min([test_high.min(), bil.min(), bic.min(), lan.min(), val_4vis.min()])\n",
    "    vmax = max([test_high.max(), bil.max(), bic.max(), lan.max(), val_4vis.max()])\n",
    "    plt.figure(figsize=(15, 5))\n",
    "    \n",
    "    plt.subplot(151)\n",
    "    plt.title(\"Label\")\n",
    "    plt.imshow(test_high[...,i], cmap='gray', vmin=vmin, vmax=vmax)\n",
    "    #plt.imshow(np.rot90(test_high[...,i], 1), cmap='gray', vmin=vmin, vmax=vmax)\n",
    "    \n",
    "    plt.subplot(152)\n",
    "    plt.title(\"Proposed\")\n",
    "    plt.imshow(val_4vis[...,i], cmap='gray', vmin=vmin, vmax=vmax)\n",
    "    #plt.imshow(np.rot90(val_4vis[...,i], 1), cmap='gray', vmin=vmin, vmax=vmax)\n",
    "    \n",
    "    plt.subplot(153)\n",
    "    plt.title(\"Bicubic\")\n",
    "    plt.imshow(bic[...,i], cmap='gray', vmin=vmin, vmax=vmax)\n",
    "    #plt.imshow(np.rot90(bic[...,i], 1), cmap='gray', vmin=vmin, vmax=vmax)\n",
    "    \n",
    "    plt.subplot(154)\n",
    "    plt.title(\"Lanczos\")\n",
    "    plt.imshow(lan[...,i], cmap='gray', vmin=vmin, vmax=vmax)\n",
    "    #plt.imshow(np.rot90(lan[...,i], 1), cmap='gray', vmin=vmin, vmax=vmax)\n",
    "    \n",
    "    plt.subplot(155)\n",
    "    plt.title(\"Bilinear\")\n",
    "    plt.imshow(bil[...,i], cmap='gray', vmin=vmin, vmax=vmax)\n",
    "    #plt.imshow(np.rot90(bil[...,i], 1), cmap='gray', vmin=vmin, vmax=vmax)\n",
    "    \n",
    "    plt.savefig('./figure/Result/Axial/%03d.png'%i)\n",
    "    plt.show()\n",
    "    "
   ]
  },
  {
   "cell_type": "code",
   "execution_count": 16,
   "metadata": {},
   "outputs": [
    {
     "data": {
      "application/vnd.jupyter.widget-view+json": {
       "model_id": "4432976982894b2fad6b6f61faf98926",
       "version_major": 2,
       "version_minor": 0
      },
      "text/plain": [
       "interactive(children=(IntSlider(value=74, description='axial', max=149), IntSlider(value=159, description='cor…"
      ]
     },
     "metadata": {},
     "output_type": "display_data"
    }
   ],
   "source": [
    "orthoview([test_high, bilinear(test_low), bicubic(test_low), lanc(test_low), val_4vis])"
   ]
  }
 ],
 "metadata": {
  "kernelspec": {
   "display_name": "Python 3",
   "language": "python",
   "name": "python3"
  },
  "language_info": {
   "codemirror_mode": {
    "name": "ipython",
    "version": 3
   },
   "file_extension": ".py",
   "mimetype": "text/x-python",
   "name": "python",
   "nbconvert_exporter": "python",
   "pygments_lexer": "ipython3",
   "version": "3.6.8"
  }
 },
 "nbformat": 4,
 "nbformat_minor": 2
}
