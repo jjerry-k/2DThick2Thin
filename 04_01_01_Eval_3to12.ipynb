{
 "cells": [
  {
   "cell_type": "code",
   "execution_count": 1,
   "metadata": {},
   "outputs": [],
   "source": [
    "from tensorflow.keras import models, optimizers, losses\n",
    "from utils import *\n",
    "from loss import *\n",
    "from network import *\n",
    "from metrics import *\n",
    "from ipywidgets import interact\n",
    "from matplotlib import pyplot as plt\n",
    "import cv2\n",
    "import pandas as pd"
   ]
  },
  {
   "cell_type": "code",
   "execution_count": 2,
   "metadata": {},
   "outputs": [],
   "source": [
    "def plot_result(y_pred, y_true, mode=12):\n",
    "    # img : [Slices, Height, Width, 12]\n",
    "    b, h, w, _ = y_pred.shape\n",
    "    \n",
    "    if mode == 12:\n",
    "        tmp_pred = y_pred[...,3:-3]\n",
    "        tmp_pred = np.transpose(tmp_pred, [0, 3, 1, 2])\n",
    "        tmp_pred = np.reshape(tmp_pred, [b*6, h, w])\n",
    "\n",
    "        tmp_true = y_true[...,3:-3]\n",
    "        tmp_true = np.transpose(tmp_true, [0, 3, 1, 2])\n",
    "        tmp_true = np.reshape(tmp_true, [b*6, h, w])\n",
    "    \n",
    "    elif mode ==6:\n",
    "        tmp_pred = np.transpose(y_pred, [0, 3, 1, 2])\n",
    "        tmp_pred = np.reshape(tmp_pred, [b*6, h, w])\n",
    "        \n",
    "        tmp_true = np.transpose(y_true, [0, 3, 1, 2])\n",
    "        tmp_true = np.reshape(tmp_true, [b*6, h, w])\n",
    "        \n",
    "        \n",
    "    max_idx = len(tmp_pred)-1\n",
    "    err = tmp_true-tmp_pred\n",
    "    err_min = (tmp_true-tmp_pred).min()\n",
    "    err_max = (tmp_true-tmp_pred).max()\n",
    "    \n",
    "    def plot(idx=0):\n",
    "        plt.figure(figsize=(12, 6))\n",
    "        plt.subplot(131)\n",
    "        plt.title(\"y_pred\")\n",
    "        plt.imshow(tmp_pred[idx], cmap='gray', vmin=0, vmax=tmp_true.max())\n",
    "        plt.xlabel(\"%.2f\"%(tmp_pred[idx].max()))\n",
    "        plt.subplot(132)\n",
    "        plt.title(\"y_true\")\n",
    "        plt.imshow(tmp_true[idx], cmap='gray', vmax=tmp_true.max())\n",
    "        plt.xlabel(\"%.2f\"%(tmp_true[idx].max()))\n",
    "        plt.subplot(133)\n",
    "        plt.title(\"Error (true - pred)\")\n",
    "        plt.imshow(err[idx], cmap='gray', vmin = err_min, vmax=err_max)\n",
    "        #plt.xlabel(\"%.2f ~ %.2f\"%(err[idx].min(), err[idx].max()))\n",
    "    interact(plot, idx=(0, max_idx, 1))"
   ]
  },
  {
   "cell_type": "code",
   "execution_count": 3,
   "metadata": {},
   "outputs": [
    {
     "name": "stdout",
     "output_type": "stream",
     "text": [
      "Train X's shape :  (303, 320, 256, 3)\n",
      "Train Y's shape :  (303, 320, 256, 12)\n",
      "Validation X's shape :  (25, 320, 256, 3)\n",
      "Validation Y's shape :  (25, 320, 256, 12)\n",
      "Test X's shape :  (320, 320, 256, 3)\n"
     ]
    }
   ],
   "source": [
    "train_low, train_high, val_low, val_high, test_low = data_loader_v3('./interpolation/')\n",
    "print(\"Train X's shape : \", train_low.shape)\n",
    "print(\"Train Y's shape : \", train_high.shape)\n",
    "print(\"Validation X's shape : \", val_low.shape)\n",
    "print(\"Validation Y's shape : \", val_high.shape)\n",
    "print(\"Test X's shape : \", test_low.shape)\n"
   ]
  },
  {
   "cell_type": "code",
   "execution_count": 4,
   "metadata": {},
   "outputs": [],
   "source": [
    "root_path = './checkpoint/3to12/unet_l1_ssim/'\n",
    "\n",
    "model_path = root_path+'model.json'\n",
    "train_csv_path = root_path+'train_loss.csv'\n",
    "val_csv_path = root_path+'val_loss.csv'\n",
    "\n",
    "weights_list = sorted(os.listdir(root_path))\n",
    "weights_list = [i for i in weights_list if '.h5' in i]"
   ]
  },
  {
   "cell_type": "code",
   "execution_count": 5,
   "metadata": {},
   "outputs": [
    {
     "data": {
      "text/plain": [
       "['0100_1200.44_403.18.h5',\n",
       " '0200_959.34_393.57.h5',\n",
       " '0300_835.33_401.95.h5',\n",
       " '0400_801.66_402.40.h5',\n",
       " '0500_750.86_387.63.h5']"
      ]
     },
     "execution_count": 5,
     "metadata": {},
     "output_type": "execute_result"
    }
   ],
   "source": [
    "weights_list"
   ]
  },
  {
   "cell_type": "code",
   "execution_count": 6,
   "metadata": {},
   "outputs": [
    {
     "name": "stdout",
     "output_type": "stream",
     "text": [
      "WARNING:tensorflow:From C:\\Users\\user\\Anaconda3\\lib\\site-packages\\tensorflow\\python\\ops\\resource_variable_ops.py:435: colocate_with (from tensorflow.python.framework.ops) is deprecated and will be removed in a future version.\n",
      "Instructions for updating:\n",
      "Colocations handled automatically by placer.\n"
     ]
    }
   ],
   "source": [
    "with open(model_path, 'r') as f:\n",
    "    model_json = f.read()\n",
    "\n",
    "A = models.model_from_json(model_json)\n",
    "\n",
    "A.load_weights(root_path+weights_list[-1])"
   ]
  },
  {
   "cell_type": "code",
   "execution_count": 7,
   "metadata": {},
   "outputs": [
    {
     "name": "stdout",
     "output_type": "stream",
     "text": [
      "(303, 320, 256, 12)\n",
      "(25, 320, 256, 12)\n"
     ]
    }
   ],
   "source": [
    "train_, _ = A.predict(train_low)\n",
    "val_, _ = A.predict(val_low)\n",
    "print(train_.shape)\n",
    "print(val_.shape)"
   ]
  },
  {
   "cell_type": "markdown",
   "metadata": {},
   "source": [
    "$$\n",
    "MSE = \\frac{1}{n} \\sum^n{(y-\\hat{y})^2}\n",
    "$$\n",
    "\n",
    "$$\n",
    "RMSE = \\sqrt{MSE} = \\sqrt{\\frac{1}{n} \\sum^n{(y-\\hat{y})^2}}\n",
    "$$\n",
    "\n",
    "$$\n",
    "RMSPE = \\sqrt{\\frac{1}{n} \\sum^n({\\frac{y-\\hat{y}}{y}})^2}\n",
    "$$\n",
    "\n",
    "$$\n",
    "PSNR = 10\\log_{10}(\\frac{MAX}{\\sqrt{MSE}}) = 20\\log_{10}{MAX} - 10\\log_{10}\\sqrt{MSE}\n",
    "$$\n",
    "\n",
    "$$\n",
    "SSIM = I(x,y)C(x,y)S(x,y)\n",
    "$$"
   ]
  },
  {
   "cell_type": "code",
   "execution_count": 8,
   "metadata": {},
   "outputs": [
    {
     "name": "stderr",
     "output_type": "stream",
     "text": [
      "C:\\Users\\user\\Anaconda3\\lib\\site-packages\\sklearn\\metrics\\cluster\\supervised.py:605: RuntimeWarning: invalid value encountered in log\n",
      "  log_outer = -np.log(outer) + log(pi.sum()) + log(pj.sum())\n"
     ]
    },
    {
     "name": "stdout",
     "output_type": "stream",
     "text": [
      "(303, 6) 7.908447489105769 3.051325232899613\n",
      "(303, 6) 301.83607453149443 222.22697294348913\n",
      "(303, 6) 16.35522916551147 5.860251997576336\n",
      "(303, 6) 37.1625758318452 2.7564652548730995\n",
      "(303, 6) 0.9771445227657983 0.010370742366432954\n",
      "(303, 6) 1.8337863713160432 0.5086974260384656\n",
      "(303, 6) 0.5485447039004949 0.2351795924649842\n"
     ]
    }
   ],
   "source": [
    "train_mae = MAE(train_high[...,3:-3], train_[...,3:-3])\n",
    "train_mse = MSE(train_high[...,3:-3], train_[...,3:-3])\n",
    "train_rmse = RMSE(train_high[...,3:-3], train_[...,3:-3])\n",
    "train_psnr = PSNR(train_high[...,3:-3], train_[...,3:-3])\n",
    "train_ssim = SSIM(train_high[...,3:-3], train_[...,3:-3])\n",
    "train_mi = MI(train_high[...,3:-3], train_[...,3:-3])\n",
    "train_mi = np.nan_to_num(train_mi)\n",
    "train_nmi = NMI(train_high[...,3:-3], train_[...,3:-3])\n",
    "train_nmi = np.nan_to_num(train_nmi)\n",
    "\n",
    "print(train_mae.shape, train_mae.mean(), train_mae.std())\n",
    "print(train_mse.shape, train_mse.mean(), train_mse.std())\n",
    "print(train_rmse.shape, train_rmse.mean(), train_rmse.std())\n",
    "print(train_psnr.shape, train_psnr.mean(), train_psnr.std())\n",
    "print(train_ssim.shape, train_ssim.mean(), train_ssim.std())\n",
    "print(train_mi.shape, train_mi.mean(), train_mi.std())\n",
    "print(train_nmi.shape, train_nmi.mean(), train_nmi.std())"
   ]
  },
  {
   "cell_type": "code",
   "execution_count": 9,
   "metadata": {},
   "outputs": [
    {
     "name": "stdout",
     "output_type": "stream",
     "text": [
      "(25, 6) 15.020565554713391 6.767447544229448\n",
      "(25, 6) 1218.6980821906025 968.0953159547024\n",
      "(25, 6) 32.46310494725484 12.839193875556239\n",
      "(25, 6) 33.782870144507534 2.030101166932766\n",
      "(25, 6) 0.9149164729103693 0.03761702928162995\n",
      "(25, 6) 1.439605142510715 0.536452172118204\n",
      "(25, 6) 0.4083680670447049 0.15360549585154457\n"
     ]
    }
   ],
   "source": [
    "val_mae = MAE(val_high[...,3:-3], val_[...,3:-3])\n",
    "val_mse = MSE(val_high[...,3:-3], val_[...,3:-3])\n",
    "val_rmse = RMSE(val_high[...,3:-3], val_[...,3:-3])\n",
    "val_psnr = PSNR(val_high[...,3:-3], val_[...,3:-3])\n",
    "val_ssim = SSIM(val_high[...,3:-3], val_[...,3:-3])\n",
    "val_mi = MI(val_high[...,3:-3], val_[...,3:-3])\n",
    "val_mi = np.nan_to_num(val_mi)\n",
    "val_nmi = NMI(val_high[...,3:-3], val_[...,3:-3])\n",
    "val_nmi = np.nan_to_num(val_nmi)\n",
    "\n",
    "print(val_mae.shape, val_mae.mean(), val_mae.std())\n",
    "print(val_mse.shape, val_mse.mean(), val_mse.std())\n",
    "print(val_rmse.shape, val_rmse.mean(), val_rmse.std())\n",
    "print(val_psnr.shape, val_psnr.mean(), val_psnr.std())\n",
    "print(val_ssim.shape, val_ssim.mean(), val_ssim.std())\n",
    "print(val_mi.shape, val_mi.mean(), val_mi.std())\n",
    "print(val_nmi.shape, val_nmi.mean(), val_nmi.std())"
   ]
  },
  {
   "cell_type": "code",
   "execution_count": null,
   "metadata": {},
   "outputs": [],
   "source": [
    "plot_result(train_, train_high, 12)"
   ]
  },
  {
   "cell_type": "code",
   "execution_count": null,
   "metadata": {},
   "outputs": [],
   "source": [
    "plot_result(val_, val_high, 12)"
   ]
  },
  {
   "cell_type": "code",
   "execution_count": null,
   "metadata": {},
   "outputs": [],
   "source": [
    "train_loss = pd.read_csv(train_csv_path)\n",
    "val_loss = pd.read_csv(val_csv_path)"
   ]
  },
  {
   "cell_type": "code",
   "execution_count": null,
   "metadata": {},
   "outputs": [],
   "source": [
    "plt.plot(train_loss.Generator_Style[:100])\n",
    "plt.plot(val_loss.Generator_Style[:100])\n",
    "plt.ylim((0, 10000))"
   ]
  },
  {
   "cell_type": "code",
   "execution_count": null,
   "metadata": {},
   "outputs": [],
   "source": [
    "val_loss.Generator_Style.min()"
   ]
  }
 ],
 "metadata": {
  "kernelspec": {
   "display_name": "Python 3",
   "language": "python",
   "name": "python3"
  },
  "language_info": {
   "codemirror_mode": {
    "name": "ipython",
    "version": 3
   },
   "file_extension": ".py",
   "mimetype": "text/x-python",
   "name": "python",
   "nbconvert_exporter": "python",
   "pygments_lexer": "ipython3",
   "version": "3.6.8"
  }
 },
 "nbformat": 4,
 "nbformat_minor": 2
}
