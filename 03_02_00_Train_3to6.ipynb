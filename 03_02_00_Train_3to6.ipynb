{
 "cells": [
  {
   "cell_type": "code",
   "execution_count": null,
   "metadata": {},
   "outputs": [],
   "source": []
  },
  {
   "cell_type": "code",
   "execution_count": null,
   "metadata": {},
   "outputs": [],
   "source": [
    "from tensorflow.keras import models, optimizers, losses\n",
    "from tensorflow.keras.utils import Progbar\n",
    "from utils import *\n",
    "from network import *\n",
    "from loss import *\n",
    "from matplotlib import pyplot as plt\n",
    "import cv2"
   ]
  },
  {
   "cell_type": "code",
   "execution_count": null,
   "metadata": {},
   "outputs": [],
   "source": [
    "G = res_unet(n_slice=6, case=2)\n",
    "\n",
    "print(\"\\n===================================\\n\")"
   ]
  },
  {
   "cell_type": "code",
   "execution_count": null,
   "metadata": {},
   "outputs": [],
   "source": [
    "G.compile(optimizer=optimizers.Adam(lr=0.0001, epsilon=1e-8), loss=Custom_L2_SSIM)"
   ]
  },
  {
   "cell_type": "code",
   "execution_count": null,
   "metadata": {},
   "outputs": [],
   "source": [
    "train_low, train_high, val_low, val_high, test_low = data_loader_v2('./interpolation/', norm=True)\n",
    "print(\"Train X's shape : \", train_low.shape)\n",
    "print(\"Train Y's shape : \", train_high.shape)\n",
    "print(\"Validation X's shape : \", val_low.shape)\n",
    "print(\"Validation Y's shape : \", val_high.shape)\n",
    "print(\"Test X's shape : \", test_low.shape)"
   ]
  },
  {
   "cell_type": "code",
   "execution_count": null,
   "metadata": {},
   "outputs": [],
   "source": [
    "shuffle_idx = np.random.choice(len(train_low), len(train_low), replace=False)\n",
    "train_low = train_low[shuffle_idx]\n",
    "train_high = train_high[shuffle_idx]\n",
    "batch = 2\n",
    "steps = len(train_low)//batch +1"
   ]
  },
  {
   "cell_type": "code",
   "execution_count": null,
   "metadata": {},
   "outputs": [],
   "source": [
    "G.fit(train_low, train_high, batch_size=batch, epochs = 1500)"
   ]
  },
  {
   "cell_type": "code",
   "execution_count": null,
   "metadata": {},
   "outputs": [],
   "source": [
    "idx = 10\n",
    "test_in = train_low[idx:idx+1]\n",
    "test= G.predict(test_in)\n",
    "print(test_in.max())\n",
    "\n",
    "plot_fn(test, train_high[idx:idx+1])"
   ]
  },
  {
   "cell_type": "code",
   "execution_count": null,
   "metadata": {},
   "outputs": [],
   "source": [
    "train, _ = A.predict(train_low)\n",
    "train_mse = MSE(train, train_high)\n",
    "\n",
    "print(train_mse.mean())"
   ]
  },
  {
   "cell_type": "code",
   "execution_count": null,
   "metadata": {},
   "outputs": [],
   "source": [
    "idx = 0\n",
    "val_in = val_low\n",
    "val, _ = A.predict(test_in)\n",
    "#print(test_in.max())\n",
    "print(val.shape)\n",
    "print(val_high.shape)\n",
    "#plot_fn(test, val_high[idx:idx+1])\n",
    "to_save_val = np.transpose(val, [0, 3, 1, 2]).reshape((156, 320, 256))\n",
    "to_save_label = np.transpose(val_high, [0, 3, 1, 2]).reshape((156, 320, 256))\n",
    "val_mse = MSE(val, val_high)\n",
    "print(val_mse.mean())"
   ]
  },
  {
   "cell_type": "code",
   "execution_count": null,
   "metadata": {},
   "outputs": [],
   "source": [
    "test_in = test_low\n",
    "test, _ = A.predict(test_in)\n",
    "#print(test_in.max())\n",
    "print(test.shape)\n",
    "#plot_fn(test, val_high[idx:idx+1])\n",
    "to_save_test = np.transpose(test, [0, 3, 1, 2]).reshape((len(test)*6, 320, 256))\n",
    "np.save(\"./result/base_dense/total\", to_save_test)"
   ]
  },
  {
   "cell_type": "code",
   "execution_count": null,
   "metadata": {},
   "outputs": [],
   "source": [
    "def plot_fn_single(img):\n",
    "    mdx = len(img)-1\n",
    "    def plot(idx=0):\n",
    "        plt.imshow(img[idx], cmap='gray', vmin=0, vmax=img.max())\n",
    "        plt.xlabel(\"%f ~ %f\"%(img[idx].min(), img[idx].max()))\n",
    "    interact(plot, idx=(0, mdx, 1))"
   ]
  },
  {
   "cell_type": "code",
   "execution_count": null,
   "metadata": {},
   "outputs": [],
   "source": [
    "plot_fn_single(to_save_test)"
   ]
  },
  {
   "cell_type": "code",
   "execution_count": null,
   "metadata": {},
   "outputs": [],
   "source": [
    "def view_data(img):\n",
    "    plt.figure(figsize=(16, 10))\n",
    "    plt.subplot(131)\n",
    "    plt.imshow(img[...,0], cmap='gray')\n",
    "    plt.xlabel(\"%f ~ %f\"%(img[...,0].min(), img[...,0].max()))\n",
    "    plt.subplot(132)\n",
    "    plt.imshow(img[...,1], cmap='gray')\n",
    "    plt.xlabel(\"%f ~ %f\"%(img[...,1].min(), img[...,1].max()))\n",
    "    plt.subplot(133)\n",
    "    plt.imshow(img[...,2], cmap='gray')\n",
    "    plt.xlabel(\"%f ~ %f\"%(img[...,2].min(), img[...,2].max()))\n",
    "    plt.show()"
   ]
  },
  {
   "cell_type": "code",
   "execution_count": null,
   "metadata": {},
   "outputs": [],
   "source": [
    "def plot_fn(pred, label, mode='val'):\n",
    "#     if mode != 'test':\n",
    "        \n",
    "    plt.figure(figsize=(16, 10))\n",
    "    for i in range(6):\n",
    "        plt.subplot(2, 6, i+1)\n",
    "        plt.xlabel(\"%f\"%(pred[0,...,i].max()))\n",
    "        plt.imshow(pred[0,...,i], cmap='gray', vmin = 0, vmax = label.max())\n",
    "        plt.subplot(2, 6, i+1+6)\n",
    "        plt.title(\"%f\"%(label[0,...,i].max()))\n",
    "        plt.imshow(label[0,...,i], cmap='gray', vmin = 0, vmax = label.max())\n",
    "    plt.show()"
   ]
  },
  {
   "cell_type": "code",
   "execution_count": null,
   "metadata": {},
   "outputs": [],
   "source": [
    "def MSE(x, y):\n",
    "    \"\"\"\n",
    "    x, y : (batch, height, width, channel)\n",
    "    \"\"\"\n",
    "    return np.mean(np.square(x-y), axis=(1, 2))\n",
    "\n",
    "# def PSNR(x, y):\n",
    "#     \"\"\"\n",
    "#     x, y : (batch, height, width, channel)\n",
    "#     \"\"\"\n",
    "#     return \n",
    "# def SSIM(x, y):\n",
    "#     \"\"\"\n",
    "#     x, y : (batch, height, width, channel)\n",
    "#     \"\"\"\n",
    "#     I_xy = 2*np.mean(x, axis=(1, 2))*np.mean(y, axis=(1, 2))"
   ]
  }
 ],
 "metadata": {
  "kernelspec": {
   "display_name": "Python 3",
   "language": "python",
   "name": "python3"
  },
  "language_info": {
   "codemirror_mode": {
    "name": "ipython",
    "version": 3
   },
   "file_extension": ".py",
   "mimetype": "text/x-python",
   "name": "python",
   "nbconvert_exporter": "python",
   "pygments_lexer": "ipython3",
   "version": "3.6.8"
  }
 },
 "nbformat": 4,
 "nbformat_minor": 2
}
