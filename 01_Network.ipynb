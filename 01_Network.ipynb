{
 "cells": [
  {
   "cell_type": "code",
   "execution_count": 1,
   "metadata": {},
   "outputs": [
    {
     "name": "stderr",
     "output_type": "stream",
     "text": [
      "Using TensorFlow backend.\n"
     ]
    }
   ],
   "source": [
    "from keras import backend as K\n",
    "from keras import layers, models, activations, optimizers\n",
    "from utils import *"
   ]
  },
  {
   "cell_type": "code",
   "execution_count": 2,
   "metadata": {},
   "outputs": [
    {
     "name": "stdout",
     "output_type": "stream",
     "text": [
      "Loading VGG16 model\n",
      "Total Parameter of Model :  14,714,688\n",
      "Trainable Parameter of Model :  14,714,688\n",
      "Non-Trainable Parameter of Model :  0\n"
     ]
    }
   ],
   "source": [
    "base_model = load_base_model('vgg')"
   ]
  },
  {
   "cell_type": "code",
   "execution_count": 31,
   "metadata": {},
   "outputs": [],
   "source": [
    "x_input = layers.Input(shape=(320, 256, 1))\n",
    "x = layers.Conv2D(3, 3, padding='same', activation='relu')(x_input)\n",
    "x = layers.UpSampling2D(interpolation='bilinear')(base_model(x))\n",
    "x = layers.SeparableConv2D(512, 3, padding='same', activation='relu')(x)\n",
    "\n",
    "x = layers.UpSampling2D(interpolation='bilinear')(x)\n",
    "x = layers.SeparableConv2D(256, 3, padding='same', activation='relu')(x)\n",
    "\n",
    "x = layers.UpSampling2D(interpolation='bilinear')(x)\n",
    "x = layers.SeparableConv2D(128, 3, padding='same', activation='relu')(x)\n",
    "\n",
    "x = layers.UpSampling2D(interpolation='bilinear')(x)\n",
    "x = layers.SeparableConv2D(64, 3, padding='same', activation='relu')(x)\n",
    "\n",
    "x = layers.UpSampling2D(interpolation='bilinear')(x)\n",
    "x = layers.Conv2D(6, 3, padding='same', activation='relu')(x)\n",
    "output1 = layers.DepthwiseConv2D(3, padding='same')(x)\n",
    "output2 = layers.Lambda(layer_mean)(x)\n",
    "Net = models.Model(x_input, [output1, output2])"
   ]
  },
  {
   "cell_type": "code",
   "execution_count": null,
   "metadata": {},
   "outputs": [],
   "source": [
    "Net.compile(optimizer=optimizers.Adam(epsilon=1e-8), loss = ['mse'])"
   ]
  }
 ],
 "metadata": {
  "kernelspec": {
   "display_name": "Python 3",
   "language": "python",
   "name": "python3"
  },
  "language_info": {
   "codemirror_mode": {
    "name": "ipython",
    "version": 3
   },
   "file_extension": ".py",
   "mimetype": "text/x-python",
   "name": "python",
   "nbconvert_exporter": "python",
   "pygments_lexer": "ipython3",
   "version": "3.6.8"
  }
 },
 "nbformat": 4,
 "nbformat_minor": 2
}
