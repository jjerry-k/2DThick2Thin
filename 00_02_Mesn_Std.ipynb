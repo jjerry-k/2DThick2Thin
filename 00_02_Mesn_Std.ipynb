{
 "cells": [
  {
   "cell_type": "code",
   "execution_count": 1,
   "metadata": {},
   "outputs": [],
   "source": [
    "import os, cv2\n",
    "import numpy as np\n",
    "import nibabel as nib\n",
    "from matplotlib import pyplot as plt\n",
    "from utils import *\n",
    "from loss import *\n",
    "%matplotlib inline"
   ]
  },
  {
   "cell_type": "code",
   "execution_count": 2,
   "metadata": {},
   "outputs": [],
   "source": [
    "import os\n",
    "os.environ[\"CUDA_DEVICE_ORDER\"]=\"PCI_BUS_ID\"   \n",
    "os.environ[\"CUDA_VISIBLE_DEVICES\"]=\" \""
   ]
  },
  {
   "cell_type": "code",
   "execution_count": 3,
   "metadata": {},
   "outputs": [],
   "source": [
    "ROOT = './interpolation/'\n",
    "PAT_LISTS = sorted(os.listdir(ROOT))"
   ]
  },
  {
   "cell_type": "code",
   "execution_count": 4,
   "metadata": {},
   "outputs": [],
   "source": [
    "t1, dante = load_nii_multi(ROOT+PAT_LISTS[0])"
   ]
  },
  {
   "cell_type": "code",
   "execution_count": 5,
   "metadata": {},
   "outputs": [
    {
     "name": "stdout",
     "output_type": "stream",
     "text": [
      "1638.4087 1110.8671 527.5416\n",
      "1834.1937 1439.2974 394.89636\n",
      "1241.9811 1046.7836 195.19751\n",
      "1701.5632 1418.9097 282.65356\n",
      "2013.5105 1704.5394 308.97107\n",
      "1922.0564 1656.1915 265.86487\n",
      "1673.2535 1236.1743 437.07922\n",
      "1569.2719 1313.2133 256.0586\n",
      "1900.3605 1515.9989 384.36157\n",
      "1540.1075 985.02 555.0875\n",
      "2187.8513 1254.9563 932.895\n",
      "2006.086 1539.8431 466.24292\n",
      "1849.7784 1608.0365 241.74194\n",
      "1648.962 1346.022 302.94006\n"
     ]
    },
    {
     "data": {
      "image/png": "[encoded data removed]",
      "text/plain": [
       "<Figure size 432x288 with 1 Axes>"
      ]
     },
     "metadata": {
      "needs_background": "light"
     },
     "output_type": "display_data"
    }
   ],
   "source": [
    "for PAT in PAT_LISTS:\n",
    "    t1, dante = load_nii_multi(ROOT+PAT)\n",
    "    h, w, s = dante.shape\n",
    "    v_split = np.array(np.dsplit(dante, s/6))\n",
    "    mean_dante = v_split.mean(-1)\n",
    "    x, y = np.histogram(dante.ravel(), bins=255)\n",
    "    plt.plot(y[1:], x[:])\n",
    "    print(dante.max(), mean_dante.max(),dante.max()-mean_dante.max())\n",
    "plt.show()"
   ]
  }
 ],
 "metadata": {
  "kernelspec": {
   "display_name": "Python 3",
   "language": "python",
   "name": "python3"
  },
  "language_info": {
   "codemirror_mode": {
    "name": "ipython",
    "version": 3
   },
   "file_extension": ".py",
   "mimetype": "text/x-python",
   "name": "python",
   "nbconvert_exporter": "python",
   "pygments_lexer": "ipython3",
   "version": "3.6.8"
  }
 },
 "nbformat": 4,
 "nbformat_minor": 2
}
