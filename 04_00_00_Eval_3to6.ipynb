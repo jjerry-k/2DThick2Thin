{
 "cells": [
  {
   "cell_type": "code",
   "execution_count": 1,
   "metadata": {},
   "outputs": [],
   "source": [
    "from tensorflow.keras import models, optimizers, losses\n",
    "from utils import *\n",
    "from network import *\n",
    "from metrics import *\n",
    "from loss import *\n",
    "from ipywidgets import interact\n",
    "from matplotlib import pyplot as plt\n",
    "import cv2"
   ]
  },
  {
   "cell_type": "code",
   "execution_count": 2,
   "metadata": {},
   "outputs": [
    {
     "name": "stdout",
     "output_type": "stream",
     "text": [
      "Train X's shape :  (303, 320, 256, 3)\n",
      "Train Y's shape :  (303, 320, 256, 6)\n",
      "Validation X's shape :  (25, 320, 256, 3)\n",
      "Validation Y's shape :  (25, 320, 256, 6)\n",
      "Test X's shape :  (328, 320, 256, 3)\n"
     ]
    }
   ],
   "source": [
    "train_low, train_high, val_low, val_high, test_low = data_loader_v2('./interpolation/')\n",
    "print(\"Train X's shape : \", train_low.shape)\n",
    "print(\"Train Y's shape : \", train_high.shape)\n",
    "print(\"Validation X's shape : \", val_low.shape)\n",
    "print(\"Validation Y's shape : \", val_high.shape)\n",
    "print(\"Test X's shape : \", test_low.shape)"
   ]
  },
  {
   "cell_type": "code",
   "execution_count": 3,
   "metadata": {},
   "outputs": [],
   "source": [
    "root_path = './checkpoint/3to6/dense_L1/'\n",
    "model_path = root_path+'model.h5'\n",
    "\n",
    "weights_list = [i for i in sorted(os.listdir(root_path)) if '.h5' in i]"
   ]
  },
  {
   "cell_type": "code",
   "execution_count": 4,
   "metadata": {},
   "outputs": [
    {
     "name": "stdout",
     "output_type": "stream",
     "text": [
      "WARNING:tensorflow:From C:\\Users\\user\\Anaconda3\\lib\\site-packages\\tensorflow\\python\\ops\\resource_variable_ops.py:435: colocate_with (from tensorflow.python.framework.ops) is deprecated and will be removed in a future version.\n",
      "Instructions for updating:\n",
      "Colocations handled automatically by placer.\n"
     ]
    }
   ],
   "source": [
    "#A = models.load_model(root_path+weights_list[-1], compile=False)\n",
    "A = models.load_model(model_path, compile=False)\n",
    "A.load_weights(root_path+weights_list[-2])\n",
    "A.compile(optimizer=optimizers.Adam(lr=0.0001, epsilon=1e-8),\n",
    "          loss=[losses.mean_squared_error, losses.binary_crossentropy], \n",
    "          loss_weights=[50, 1])"
   ]
  },
  {
   "cell_type": "code",
   "execution_count": 5,
   "metadata": {},
   "outputs": [
    {
     "name": "stdout",
     "output_type": "stream",
     "text": [
      "(303, 320, 256, 6)\n",
      "(25, 320, 256, 6)\n"
     ]
    }
   ],
   "source": [
    "train_, _ = A.predict(train_low)\n",
    "val_, _ = A.predict(val_low)\n",
    "print(train_.shape)\n",
    "print(val_.shape)"
   ]
  },
  {
   "cell_type": "markdown",
   "metadata": {},
   "source": [
    "$$\n",
    "MSE = \\frac{1}{n} \\sum^n{(y-\\hat{y})^2}\n",
    "$$\n",
    "\n",
    "$$\n",
    "RMSE = \\sqrt{MSE} = \\sqrt{\\frac{1}{n} \\sum^n{(y-\\hat{y})^2}}\n",
    "$$\n",
    "\n",
    "$$\n",
    "RMSPE = \\sqrt{\\frac{1}{n} \\sum^n({\\frac{y-\\hat{y}}{y}})^2}\n",
    "$$\n",
    "\n",
    "$$\n",
    "PSNR = 10\\log_{10}(\\frac{MAX}{\\sqrt{MSE}}) = 20\\log_{10}{MAX} - 10\\log_{10}\\sqrt{MSE}\n",
    "$$\n",
    "\n",
    "$$\n",
    "SSIM = I(x,y)C(x,y)S(x,y)\n",
    "$$"
   ]
  },
  {
   "cell_type": "code",
   "execution_count": 6,
   "metadata": {},
   "outputs": [
    {
     "name": "stdout",
     "output_type": "stream",
     "text": [
      "(303, 6) 4946.406458797265\n",
      "(303, 6) 67.45513969199742\n",
      "(303, 6) 2.0727996605068615\n",
      "(303, 6) 60.12988747400638\n",
      "(303, 6) 0.9967624459483876\n"
     ]
    }
   ],
   "source": [
    "train_mse = MSE(train_high, train_)\n",
    "train_rmse = RMSE(train_high, train_)\n",
    "train_rmspe = RMSPE(train_high, train_)\n",
    "train_psnr = PSNR(train_high, train_, 65535)\n",
    "train_ssim = SSIM(train_high, train_, 65535)\n",
    "\n",
    "print(train_mse.shape, train_mse.mean())\n",
    "print(train_rmse.shape, train_rmse.mean())\n",
    "print(train_rmspe.shape, train_rmspe.mean())\n",
    "print(train_psnr.shape, train_psnr.mean())\n",
    "print(train_ssim.shape, train_ssim.mean())"
   ]
  },
  {
   "cell_type": "code",
   "execution_count": 7,
   "metadata": {},
   "outputs": [
    {
     "name": "stdout",
     "output_type": "stream",
     "text": [
      "(25, 6) 3879.45479905289\n",
      "(25, 6) 60.45872724337661\n",
      "(25, 6) 2.3630899109273296\n",
      "(25, 6) 60.96466516987471\n",
      "(25, 6) 0.9971503567192813\n"
     ]
    }
   ],
   "source": [
    "val_mse = MSE(val_high, val_)\n",
    "val_rmse = RMSE(val_high, val_)\n",
    "val_rmspe = RMSPE(val_high, val_)\n",
    "val_psnr = PSNR(val_high, val_, 65535)\n",
    "val_ssim = SSIM(val_high, val_, 65535)\n",
    "\n",
    "print(val_mse.shape, val_mse.mean())\n",
    "print(val_rmse.shape, val_rmse.mean())\n",
    "print(val_rmspe.shape, val_rmspe.mean())\n",
    "print(val_psnr.shape, val_psnr.mean())\n",
    "print(val_ssim.shape, val_ssim.mean())"
   ]
  },
  {
   "cell_type": "code",
   "execution_count": 8,
   "metadata": {},
   "outputs": [],
   "source": [
    "def plot_result(y_pred, y_true, mode=12):\n",
    "    # img : [Slices, Height, Width, 12]\n",
    "    b, h, w, _ = y_pred.shape\n",
    "    \n",
    "    if mode == 12:\n",
    "        tmp_pred = y_pred[...,3:-3]\n",
    "        tmp_pred = np.transpose(tmp_pred, [0, 3, 1, 2])\n",
    "        tmp_pred = np.reshape(tmp_pred, [b*6, h, w])\n",
    "\n",
    "        tmp_true = y_true[...,3:-3]\n",
    "        tmp_true = np.transpose(tmp_true, [0, 3, 1, 2])\n",
    "        tmp_true = np.reshape(tmp_true, [b*6, h, w])\n",
    "    \n",
    "    elif mode ==6:\n",
    "        tmp_pred = np.transpose(y_pred, [0, 3, 1, 2])\n",
    "        tmp_pred = np.reshape(tmp_pred, [b*6, h, w])\n",
    "        \n",
    "        tmp_true = np.transpose(y_true, [0, 3, 1, 2])\n",
    "        tmp_true = np.reshape(tmp_true, [b*6, h, w])\n",
    "        \n",
    "        \n",
    "    max_idx = len(tmp_pred)-1\n",
    "    err_min = (tmp_true-tmp_pred).min()\n",
    "    err_max = (tmp_true-tmp_pred).max()\n",
    "    \n",
    "    def plot(idx=0):\n",
    "        plt.figure(figsize=(12, 6))\n",
    "        plt.subplot(131)\n",
    "        plt.title(\"y_pred\")\n",
    "        plt.imshow(tmp_pred[idx], cmap='gray', vmin=0, vmax=tmp_true.max())\n",
    "        plt.xlabel(\"%.2f\"%(tmp_pred[idx].max()))\n",
    "        plt.subplot(132)\n",
    "        plt.title(\"y_true\")\n",
    "        plt.imshow(tmp_true[idx], cmap='gray', vmax=tmp_true.max())\n",
    "        plt.xlabel(\"%.2f\"%(tmp_true[idx].max()))\n",
    "        plt.subplot(133)\n",
    "        plt.title(\"Error (true - pred)\")\n",
    "        plt.imshow(tmp_true[idx]-tmp_pred[idx], cmap='gray', vmin = err_min, vmax=err_max)\n",
    "    interact(plot, idx=(0, max_idx, 1))"
   ]
  },
  {
   "cell_type": "code",
   "execution_count": 9,
   "metadata": {},
   "outputs": [
    {
     "data": {
      "application/vnd.jupyter.widget-view+json": {
       "model_id": "c384c6f85c2c4acc9c8ac886fab5f171",
       "version_major": 2,
       "version_minor": 0
      },
      "text/plain": [
       "interactive(children=(IntSlider(value=0, description='idx', max=149), Output()), _dom_classes=('widget-interac…"
      ]
     },
     "metadata": {},
     "output_type": "display_data"
    }
   ],
   "source": [
    "plot_result(val_, val_high, 6)"
   ]
  },
  {
   "cell_type": "code",
   "execution_count": 10,
   "metadata": {},
   "outputs": [
    {
     "data": {
      "application/vnd.jupyter.widget-view+json": {
       "model_id": "86037df27ea342d89f84be0a3a5c964a",
       "version_major": 2,
       "version_minor": 0
      },
      "text/plain": [
       "interactive(children=(IntSlider(value=0, description='idx', max=1817), Output()), _dom_classes=('widget-intera…"
      ]
     },
     "metadata": {},
     "output_type": "display_data"
    }
   ],
   "source": [
    "plot_result(train_, train_high, 6)"
   ]
  },
  {
   "cell_type": "code",
   "execution_count": null,
   "metadata": {},
   "outputs": [],
   "source": []
  }
 ],
 "metadata": {
  "kernelspec": {
   "display_name": "Python 3",
   "language": "python",
   "name": "python3"
  },
  "language_info": {
   "codemirror_mode": {
    "name": "ipython",
    "version": 3
   },
   "file_extension": ".py",
   "mimetype": "text/x-python",
   "name": "python",
   "nbconvert_exporter": "python",
   "pygments_lexer": "ipython3",
   "version": "3.6.8"
  }
 },
 "nbformat": 4,
 "nbformat_minor": 2
}
