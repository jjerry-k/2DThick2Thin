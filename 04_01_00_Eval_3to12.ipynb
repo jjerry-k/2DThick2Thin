{
 "cells": [
  {
   "cell_type": "code",
   "execution_count": 1,
   "metadata": {},
   "outputs": [],
   "source": [
    "from tensorflow.keras import models, optimizers, losses\n",
    "from utils import *\n",
    "from loss import *\n",
    "from network import *\n",
    "from metrics import *\n",
    "from ipywidgets import interact\n",
    "from matplotlib import pyplot as plt\n",
    "import cv2"
   ]
  },
  {
   "cell_type": "code",
   "execution_count": null,
   "metadata": {},
   "outputs": [],
   "source": [
    "def plot_result(y_pred, y_true, mode=12):\n",
    "    # img : [Slices, Height, Width, 12]\n",
    "    b, h, w, _ = y_pred.shape\n",
    "    \n",
    "    if mode == 12:\n",
    "        tmp_pred = y_pred[...,3:-3]\n",
    "        tmp_pred = np.transpose(tmp_pred, [0, 3, 1, 2])\n",
    "        tmp_pred = np.reshape(tmp_pred, [b*6, h, w])\n",
    "\n",
    "        tmp_true = y_true[...,3:-3]\n",
    "        tmp_true = np.transpose(tmp_true, [0, 3, 1, 2])\n",
    "        tmp_true = np.reshape(tmp_true, [b*6, h, w])\n",
    "    \n",
    "    elif mode ==6:\n",
    "        tmp_pred = np.transpose(y_pred, [0, 3, 1, 2])\n",
    "        tmp_pred = np.reshape(tmp_pred, [b*6, h, w])\n",
    "        \n",
    "        tmp_true = np.transpose(y_true, [0, 3, 1, 2])\n",
    "        tmp_true = np.reshape(tmp_true, [b*6, h, w])\n",
    "        \n",
    "        \n",
    "    max_idx = len(tmp_pred)-1\n",
    "    err = tmp_true-tmp_pred\n",
    "    err_min = (tmp_true-tmp_pred).min()\n",
    "    err_max = (tmp_true-tmp_pred).max()\n",
    "    \n",
    "    def plot(idx=0):\n",
    "        plt.figure(figsize=(12, 6))\n",
    "        plt.subplot(131)\n",
    "        plt.title(\"y_pred\")\n",
    "        plt.imshow(tmp_pred[idx], cmap='gray', vmin=0, vmax=tmp_true.max())\n",
    "        plt.xlabel(\"%.2f\"%(tmp_pred[idx].max()))\n",
    "        plt.subplot(132)\n",
    "        plt.title(\"y_true\")\n",
    "        plt.imshow(tmp_true[idx], cmap='gray', vmax=tmp_true.max())\n",
    "        plt.xlabel(\"%.2f\"%(tmp_true[idx].max()))\n",
    "        plt.subplot(133)\n",
    "        plt.title(\"Error (true - pred)\")\n",
    "        plt.imshow(err[idx], cmap='gray', vmin = err_min, vmax=err_max)\n",
    "        #plt.xlabel(\"%.2f ~ %.2f\"%(err[idx].min(), err[idx].max()))\n",
    "    interact(plot, idx=(0, max_idx, 1))"
   ]
  },
  {
   "cell_type": "code",
   "execution_count": 2,
   "metadata": {},
   "outputs": [
    {
     "name": "stdout",
     "output_type": "stream",
     "text": [
      "Train X's shape :  (303, 320, 256, 3)\n",
      "Train Y's shape :  (303, 320, 256, 12)\n",
      "Validation X's shape :  (25, 320, 256, 3)\n",
      "Validation Y's shape :  (25, 320, 256, 12)\n",
      "Test X's shape :  (320, 320, 256, 3)\n"
     ]
    }
   ],
   "source": [
    "train_low, train_high, val_low, val_high, test_low = data_loader_v3('./interpolation/')\n",
    "print(\"Train X's shape : \", train_low.shape)\n",
    "print(\"Train Y's shape : \", train_high.shape)\n",
    "print(\"Validation X's shape : \", val_low.shape)\n",
    "print(\"Validation Y's shape : \", val_high.shape)\n",
    "print(\"Test X's shape : \", test_low.shape)\n"
   ]
  },
  {
   "cell_type": "code",
   "execution_count": 15,
   "metadata": {},
   "outputs": [
    {
     "data": {
      "text/plain": [
       "'model.h5'"
      ]
     },
     "execution_count": 15,
     "metadata": {},
     "output_type": "execute_result"
    }
   ],
   "source": [
    "root_path = './checkpoint/3to12/dense_L1/'\n",
    "model_path = root_path+'model.h5'\n",
    "\n",
    "weights_list = sorted(os.listdir(root_path))\n",
    "weights_list = [i for i in weights_list if '.h5' in i]\n",
    "weights_list.pop(-1)\n",
    "#print(weights_list)"
   ]
  },
  {
   "cell_type": "code",
   "execution_count": 16,
   "metadata": {},
   "outputs": [],
   "source": [
    "A = models.load_model(model_path, compile=False)\n",
    "A.load_weights(root_path+weights_list[-1])\n",
    "A.compile(optimizer=optimizers.Adam(lr=0.0001, epsilon=1e-8),\n",
    "          loss=[Custom_MSE, losses.binary_crossentropy], \n",
    "          loss_weights=[50, 1])"
   ]
  },
  {
   "cell_type": "code",
   "execution_count": 17,
   "metadata": {},
   "outputs": [
    {
     "name": "stdout",
     "output_type": "stream",
     "text": [
      "(303, 320, 256, 12)\n",
      "(25, 320, 256, 12)\n"
     ]
    }
   ],
   "source": [
    "train_, _ = A.predict(train_low)\n",
    "val_, _ = A.predict(val_low)\n",
    "print(train_.shape)\n",
    "print(val_.shape)"
   ]
  },
  {
   "cell_type": "markdown",
   "metadata": {},
   "source": [
    "$$\n",
    "MSE = \\frac{1}{n} \\sum^n{(y-\\hat{y})^2}\n",
    "$$\n",
    "\n",
    "$$\n",
    "RMSE = \\sqrt{MSE} = \\sqrt{\\frac{1}{n} \\sum^n{(y-\\hat{y})^2}}\n",
    "$$\n",
    "\n",
    "$$\n",
    "RMSPE = \\sqrt{\\frac{1}{n} \\sum^n({\\frac{y-\\hat{y}}{y}})^2}\n",
    "$$\n",
    "\n",
    "$$\n",
    "PSNR = 10\\log_{10}(\\frac{MAX}{\\sqrt{MSE}}) = 20\\log_{10}{MAX} - 10\\log_{10}\\sqrt{MSE}\n",
    "$$\n",
    "\n",
    "$$\n",
    "SSIM = I(x,y)C(x,y)S(x,y)\n",
    "$$"
   ]
  },
  {
   "cell_type": "code",
   "execution_count": 18,
   "metadata": {},
   "outputs": [
    {
     "name": "stdout",
     "output_type": "stream",
     "text": [
      "(303, 6) 33.98999570365423\n",
      "(303, 6) 5320.14926935723\n",
      "(303, 6) 69.56844863046261\n",
      "(303, 6) 3.1230199652967565\n",
      "(303, 6) 59.911784310505936\n",
      "(303, 6) 0.9964254193247921\n"
     ]
    }
   ],
   "source": [
    "train_mae = MAE(train_high[...,3:-3], train_[...,3:-3])\n",
    "train_mse = MSE(train_high[...,3:-3], train_[...,3:-3])\n",
    "train_rmse = RMSE(train_high[...,3:-3], train_[...,3:-3])\n",
    "train_rmspe = RMSPE(train_high[...,3:-3], train_[...,3:-3])\n",
    "train_psnr = PSNR(train_high[...,3:-3], train_[...,3:-3], 65535)\n",
    "train_ssim = SSIM(train_high[...,3:-3], train_[...,3:-3], 65535)\n",
    "\n",
    "print(train_mae.shape, train_mae.mean())\n",
    "print(train_mse.shape, train_mse.mean())\n",
    "print(train_rmse.shape, train_rmse.mean())\n",
    "print(train_rmspe.shape, train_rmspe.mean())\n",
    "print(train_psnr.shape, train_psnr.mean())\n",
    "print(train_ssim.shape, train_ssim.mean())"
   ]
  },
  {
   "cell_type": "code",
   "execution_count": 19,
   "metadata": {},
   "outputs": [
    {
     "name": "stdout",
     "output_type": "stream",
     "text": [
      "(25, 6) 31.278478686788404\n",
      "(25, 6) 4156.903864137075\n",
      "(25, 6) 62.17177322807019\n",
      "(25, 6) 3.4606491075809718\n",
      "(25, 6) 60.7756308484864\n",
      "(25, 6) 0.9969909700011051\n"
     ]
    }
   ],
   "source": [
    "val_mae = MAE(val_high[...,3:-3], val_[...,3:-3])\n",
    "val_mse = MSE(val_high[...,3:-3], val_[...,3:-3])\n",
    "val_rmse = RMSE(val_high[...,3:-3], val_[...,3:-3])\n",
    "val_rmspe = RMSPE(val_high[...,3:-3], val_[...,3:-3])\n",
    "val_psnr = PSNR(val_high[...,3:-3], val_[...,3:-3], 65535)\n",
    "val_ssim = SSIM(val_high[...,3:-3], val_[...,3:-3], 65535)\n",
    "\n",
    "print(val_mae.shape, val_mae.mean())\n",
    "print(val_mse.shape, val_mse.mean())\n",
    "print(val_rmse.shape, val_rmse.mean())\n",
    "print(val_rmspe.shape, val_rmspe.mean())\n",
    "print(val_psnr.shape, val_psnr.mean())\n",
    "print(val_ssim.shape, val_ssim.mean())"
   ]
  },
  {
   "cell_type": "code",
   "execution_count": 28,
   "metadata": {},
   "outputs": [
    {
     "name": "stdout",
     "output_type": "stream",
     "text": [
      "1190 12.855120694154085\n",
      "1190 704.5527041233876\n",
      "1190 26.543411689596113\n",
      "93 18.806085026464462\n",
      "92 1304.9834736414628\n",
      "92 36.124554995756874\n"
     ]
    }
   ],
   "source": [
    "print(train_mae.argmin(), train_mae.min())\n",
    "print(train_mse.argmin(), train_mse.min())\n",
    "print(train_rmse.argmin(), train_rmse.min())\n",
    "\n",
    "print(val_mae.argmin(), val_mae.min())\n",
    "print(val_mse.argmin(), val_mse.min())\n",
    "print(val_rmse.argmin(), val_rmse.min())"
   ]
  },
  {
   "cell_type": "code",
   "execution_count": 27,
   "metadata": {},
   "outputs": [
    {
     "data": {
      "text/plain": [
       "(303, 6)"
      ]
     },
     "execution_count": 27,
     "metadata": {},
     "output_type": "execute_result"
    }
   ],
   "source": [
    "train_mae.shape"
   ]
  },
  {
   "cell_type": "code",
   "execution_count": 26,
   "metadata": {},
   "outputs": [
    {
     "data": {
      "text/plain": [
       "(25, 6)"
      ]
     },
     "execution_count": 26,
     "metadata": {},
     "output_type": "execute_result"
    }
   ],
   "source": [
    "val_mae.shape"
   ]
  },
  {
   "cell_type": "code",
   "execution_count": 21,
   "metadata": {},
   "outputs": [
    {
     "data": {
      "application/vnd.jupyter.widget-view+json": {
       "model_id": "4cee1a8a49ca40a9bcac7f9dda3bcdd3",
       "version_major": 2,
       "version_minor": 0
      },
      "text/plain": [
       "interactive(children=(IntSlider(value=0, description='idx', max=1817), Output()), _dom_classes=('widget-intera…"
      ]
     },
     "metadata": {},
     "output_type": "display_data"
    }
   ],
   "source": [
    "plot_result(train_, train_high, 12)"
   ]
  },
  {
   "cell_type": "code",
   "execution_count": 22,
   "metadata": {},
   "outputs": [
    {
     "data": {
      "application/vnd.jupyter.widget-view+json": {
       "model_id": "31c4c5c33f284ed1a78526b71f878fff",
       "version_major": 2,
       "version_minor": 0
      },
      "text/plain": [
       "interactive(children=(IntSlider(value=0, description='idx', max=149), Output()), _dom_classes=('widget-interac…"
      ]
     },
     "metadata": {},
     "output_type": "display_data"
    }
   ],
   "source": [
    "plot_result(val_, val_high, 12)"
   ]
  }
 ],
 "metadata": {
  "kernelspec": {
   "display_name": "Python 3",
   "language": "python",
   "name": "python3"
  },
  "language_info": {
   "codemirror_mode": {
    "name": "ipython",
    "version": 3
   },
   "file_extension": ".py",
   "mimetype": "text/x-python",
   "name": "python",
   "nbconvert_exporter": "python",
   "pygments_lexer": "ipython3",
   "version": "3.6.8"
  }
 },
 "nbformat": 4,
 "nbformat_minor": 2
}
