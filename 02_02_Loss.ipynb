{
 "cells": [
  {
   "cell_type": "code",
   "execution_count": null,
   "metadata": {},
   "outputs": [],
   "source": [
    "import os\n",
    "os.environ[\"CUDA_DEVICE_ORDER\"]=\"PCI_BUS_ID\"   \n",
    "os.environ[\"CUDA_VISIBLE_DEVICES\"]=\" \""
   ]
  },
  {
   "cell_type": "code",
   "execution_count": null,
   "metadata": {},
   "outputs": [],
   "source": [
    "import numpy as np\n",
    "import tensorflow as tf\n",
    "from matplotlib import pyplot as plt\n",
    "sess = tf.Session()"
   ]
  },
  {
   "cell_type": "code",
   "execution_count": null,
   "metadata": {},
   "outputs": [],
   "source": [
    "vmax = 255"
   ]
  },
  {
   "cell_type": "code",
   "execution_count": null,
   "metadata": {},
   "outputs": [],
   "source": [
    "a = tf.random.uniform([6, 320, 256, 12], maxval=vmax+1, dtype='int32')\n",
    "b = tf.random.uniform([6, 320, 256, 12], maxval=vmax+1, dtype='int32')"
   ]
  },
  {
   "cell_type": "code",
   "execution_count": null,
   "metadata": {},
   "outputs": [],
   "source": [
    "def mutual_information_np(hist2d):\n",
    "    pxy = hist2d / np.sum(hist2d)\n",
    "    px = np.sum(pxy, axis=1)\n",
    "    py = np.sum(pxy, axis=0)\n",
    "    px_py = px[:, None] * py[None, :]\n",
    "    nzs = pxy > 0\n",
    "    return np.sum(pxy[nzs] * np.log(pxy[nzs] / px_py[nzs]))"
   ]
  },
  {
   "cell_type": "code",
   "execution_count": null,
   "metadata": {},
   "outputs": [],
   "source": [
    "def mutual_information_single(hist2d):\n",
    "    tmp = tf.cast(hist2d, dtype='float64')\n",
    "    pxy = tmp / tf.reduce_sum(tmp)\n",
    "    px = tf.reduce_sum(pxy, axis=1)\n",
    "    py = tf.reduce_sum(pxy, axis=0)\n",
    "    px_py = px[:, None] * py[None, :]\n",
    "    nzs = tf.greater(pxy, 0)\n",
    "    return tf.reduce_sum(tf.boolean_mask(pxy, nzs) * tf.log(tf.boolean_mask(pxy, nzs) / tf.boolean_mask(px_py, nzs)))\n"
   ]
  },
  {
   "cell_type": "code",
   "execution_count": null,
   "metadata": {},
   "outputs": [],
   "source": [
    "def tf_joint_histogram(y_true, y_pred):\n",
    "    \"\"\"\n",
    "    y_true : [batch, height, width, channel]\n",
    "    y_pred : [batch, height, width, channel]\n",
    "    \"\"\"\n",
    "    \n",
    "    vmax = 255\n",
    "    \n",
    "    b, h, w, c = y_true.get_shape()\n",
    "    \n",
    "    # [batch, height, width, channel]\n",
    "    # -> [batch, height * width, channel]\n",
    "    # -> [batch, channel, height * width]\n",
    "    \n",
    "    flat_true = tf.transpose(tf.reshape(y_true, [b, h*w, c]), [0, 2, 1])\n",
    "    flat_true = tf.reshape(flat_true, [b*c, h*w])\n",
    "    flat_pred = tf.transpose(tf.reshape(y_pred, [b, h*w, c]), [0, 2, 1])\n",
    "    flat_pred = tf.reshape(flat_pred, [b*c, h*w])\n",
    "    \n",
    "    output = (flat_pred * (vmax+1)) + (flat_true+1)\n",
    "    # [b*c, 65536]\n",
    "    output = tf.map_fn(lambda x : tf.histogram_fixed_width(x, value_range=[1, (vmax+1)**2], nbins=(vmax+1)**2), output)\n",
    "    # [b, c, 256, 256] -> [b, 256, 256, c]\n",
    "    output = tf.transpose(tf.reshape(output, [b, c, vmax+1, vmax+1]), [0, 2, 3, 1])\n",
    "    return output, y_true, y_pred"
   ]
  },
  {
   "cell_type": "code",
   "execution_count": null,
   "metadata": {},
   "outputs": [],
   "source": [
    "def mutual_information(y_true, y_pred):\n",
    "    \n",
    "    # [b, 256, 256, c]\n",
    "    joint_histogram, _, _ = tf_joint_histogram(y_true, y_pred)\n",
    "    b, h, w, c = joint_histogram.get_shape()\n",
    "    \n",
    "    # [b*c, 256, 256]\n",
    "    joint_histogram = tf.reshape(tf.transpose(joint_histogram, [0, 3, 1, 2]), [b*c, h, w])\n",
    "    \n",
    "    output = tf.map_fn(lambda x : mutual_information_single(x), joint_histogram, dtype=tf.float64)\n",
    "    output = tf.reshape(output, [b, c])\n",
    "    return output, y_true, y_pred, joint_histogram"
   ]
  },
  {
   "cell_type": "code",
   "execution_count": null,
   "metadata": {},
   "outputs": [],
   "source": [
    "test, test_a, test_b, test_hist2d = sess.run(mutual_information(a, b))\n",
    "hist2d, _, _ = np.histogram2d(test_a[0,...,0].ravel(), test_b[0,...,0].ravel(), bins=vmax+1, range=[[0,vmax], [0,vmax]])\n"
   ]
  },
  {
   "cell_type": "code",
   "execution_count": null,
   "metadata": {},
   "outputs": [],
   "source": [
    "print(test[0,0])\n",
    "print(mutual_information_np(hist2d))"
   ]
  }
 ],
 "metadata": {
  "kernelspec": {
   "display_name": "Python 3",
   "language": "python",
   "name": "python3"
  },
  "language_info": {
   "codemirror_mode": {
    "name": "ipython",
    "version": 3
   },
   "file_extension": ".py",
   "mimetype": "text/x-python",
   "name": "python",
   "nbconvert_exporter": "python",
   "pygments_lexer": "ipython3",
   "version": "3.6.8"
  }
 },
 "nbformat": 4,
 "nbformat_minor": 2
}
