{
 "cells": [
  {
   "cell_type": "code",
   "execution_count": 1,
   "metadata": {},
   "outputs": [],
   "source": [
    "import os, cv2\n",
    "import numpy as np\n",
    "import nibabel as nib\n",
    "from matplotlib import pyplot as plt\n",
    "from utils import *\n",
    "%matplotlib inline"
   ]
  },
  {
   "cell_type": "code",
   "execution_count": 2,
   "metadata": {},
   "outputs": [],
   "source": [
    "DATA_ROOT = '../MRI Enhancing/4gan_m/'\n",
    "PAT_LISTS = sorted(os.listdir(DATA_ROOT))\n",
    "SEQ_LISTS = ['t1setrafs', 'T1SPACE09mmISOPOSTwDANTE', 't2tsetra']"
   ]
  },
  {
   "cell_type": "code",
   "execution_count": 12,
   "metadata": {},
   "outputs": [],
   "source": [
    "PAT_IDX=0\n",
    "PAT_PATH = os.path.join(DATA_ROOT, PAT_LISTS[PAT_IDX])\n",
    "\n",
    "t1_PATH = os.path.join(PAT_PATH, SEQ_LISTS[0])\n",
    "t1_rsl = [img for img in os.listdir(t1_PATH) if '_rsl' in img]\n",
    "t1_PATH = os.path.join(t1_PATH, t1_rsl[0])\n",
    "\n",
    "dante_PATH = os.path.join(PAT_PATH, SEQ_LISTS[1])\n",
    "dante_rsl = [img for img in os.listdir(dante_PATH) if '_rsl' in img]\n",
    "dante_PATH = os.path.join(dante_PATH, dante_rsl[0])\n",
    "\n",
    "t2_PATH = os.path.join(PAT_PATH, SEQ_LISTS[2])\n",
    "t2_rsl = [img for img in os.listdir(t2_PATH) if '_rsl' in img]\n",
    "t2_PATH = os.path.join(t2_PATH, t2_rsl[0])"
   ]
  },
  {
   "cell_type": "code",
   "execution_count": 16,
   "metadata": {},
   "outputs": [
    {
     "name": "stdout",
     "output_type": "stream",
     "text": [
      "Shape of T1 image :  (320, 260, 26)\n",
      "Shape of DANTE image :  (320, 260, 156)\n",
      "Shape of T2 image :  (320, 260, 26)\n"
     ]
    }
   ],
   "source": [
    "t1_img = load_nii(t1_PATH)\n",
    "dante_img = load_nii(dante_PATH)\n",
    "t2_img = load_nii(t2_PATH)\n",
    "\n",
    "print(\"Shape of T1 image : \", t1_img.shape)\n",
    "print(\"Shape of DANTE image : \", dante_img.shape)\n",
    "print(\"Shape of T2 image : \", t2_img.shape)"
   ]
  },
  {
   "cell_type": "code",
   "execution_count": 17,
   "metadata": {},
   "outputs": [],
   "source": [
    "def load_nii_multi(PATH):\n",
    "    SEQ_LISTS = ['t1setrafs', 'T1SPACE09mmISOPOSTwDANTE', 't2tsetra']\n",
    "    t1_PATH = os.path.join(PAT_PATH, SEQ_LISTS[0])\n",
    "    t1_rsl = [img for img in os.listdir(t1_PATH) if '_rsl' in img]\n",
    "    t1_PATH = os.path.join(t1_PATH, t1_rsl[0])\n",
    "\n",
    "    dante_PATH = os.path.join(PAT_PATH, SEQ_LISTS[1])\n",
    "    dante_rsl = [img for img in os.listdir(dante_PATH) if '_rsl' in img]\n",
    "    dante_PATH = os.path.join(dante_PATH, dante_rsl[0])\n",
    "\n",
    "    t2_PATH = os.path.join(PAT_PATH, SEQ_LISTS[2])\n",
    "    t2_rsl = [img for img in os.listdir(t2_PATH) if '_rsl' in img]\n",
    "    t2_PATH = os.path.join(t2_PATH, t2_rsl[0])\n",
    "    \n",
    "    t1_img = load_nii(t1_PATH)\n",
    "    dante_img = load_nii(dante_PATH)\n",
    "    t2_img = load_nii(t2_PATH)\n",
    "    \n",
    "    return t1_img, dante_img, t2_img"
   ]
  },
  {
   "cell_type": "code",
   "execution_count": 19,
   "metadata": {},
   "outputs": [
    {
     "name": "stdout",
     "output_type": "stream",
     "text": [
      "Shape of T1 image :  (320, 260, 26)\n",
      "Shape of DANTE image :  (320, 260, 156)\n",
      "Shape of T2 image :  (320, 260, 26)\n"
     ]
    }
   ],
   "source": [
    "t1_img, dante_img, t2_img = load_nii_multi(PAT_PATH)\n",
    "print(\"Shape of T1 image : \", t1_img.shape)\n",
    "print(\"Shape of DANTE image : \", dante_img.shape)\n",
    "print(\"Shape of T2 image : \", t2_img.shape)"
   ]
  }
 ],
 "metadata": {
  "kernelspec": {
   "display_name": "Python 3",
   "language": "python",
   "name": "python3"
  },
  "language_info": {
   "codemirror_mode": {
    "name": "ipython",
    "version": 3
   },
   "file_extension": ".py",
   "mimetype": "text/x-python",
   "name": "python",
   "nbconvert_exporter": "python",
   "pygments_lexer": "ipython3",
   "version": "3.6.8"
  }
 },
 "nbformat": 4,
 "nbformat_minor": 2
}
