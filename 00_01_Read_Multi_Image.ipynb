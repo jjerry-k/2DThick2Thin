{
 "cells": [
  {
   "cell_type": "code",
   "execution_count": 1,
   "metadata": {},
   "outputs": [],
   "source": [
    "import os, cv2\n",
    "import numpy as np\n",
    "import nibabel as nib\n",
    "from matplotlib import pyplot as plt\n",
    "from utils import load_nii\n",
    "%matplotlib inline"
   ]
  },
  {
   "cell_type": "code",
   "execution_count": 2,
   "metadata": {},
   "outputs": [],
   "source": [
    "DATA_ROOT = './interpolation/'\n",
    "PAT_LISTS = sorted(os.listdir(DATA_ROOT))\n",
    "SEQ_LISTS = ['t1setrafs', 'T1SPACE09mmISOPOSTwDANTE']"
   ]
  },
  {
   "cell_type": "code",
   "execution_count": 3,
   "metadata": {},
   "outputs": [],
   "source": [
    "PAT_IDX=0\n",
    "PAT_PATH = os.path.join(DATA_ROOT, PAT_LISTS[PAT_IDX])\n",
    "\n",
    "t1_PATH = os.path.join(PAT_PATH, SEQ_LISTS[0])\n",
    "t1_rsl = [img for img in os.listdir(t1_PATH) if '_rsl' in img]\n",
    "t1_PATH = os.path.join(t1_PATH, t1_rsl[0])\n",
    "\n",
    "dante_PATH = os.path.join(PAT_PATH, SEQ_LISTS[1])\n",
    "dante_rsl = [img for img in os.listdir(dante_PATH) if '_rsl' in img]\n",
    "dante_PATH = os.path.join(dante_PATH, dante_rsl[0])"
   ]
  },
  {
   "cell_type": "code",
   "execution_count": 4,
   "metadata": {},
   "outputs": [
    {
     "name": "stdout",
     "output_type": "stream",
     "text": [
      "Shape of T1 image :  (320, 260, 26)\n",
      "Shape of DANTE image :  (320, 260, 156)\n"
     ]
    }
   ],
   "source": [
    "t1_img = load_nii(t1_PATH)\n",
    "dante_img = load_nii(dante_PATH)\n",
    "\n",
    "print(\"Shape of T1 image : \", t1_img.shape)\n",
    "print(\"Shape of DANTE image : \", dante_img.shape)"
   ]
  },
  {
   "cell_type": "code",
   "execution_count": 10,
   "metadata": {},
   "outputs": [],
   "source": [
    "def load_nii_multi(PAT_PATH, img = None):\n",
    "    \"\"\"\n",
    "    Input\n",
    "    PATH : Path of patient\n",
    "    \n",
    "    Output\n",
    "    t1_img : Image of patient's T1\n",
    "    dante_img : Image of patient's DANTE\n",
    "    \"\"\"\n",
    "    SEQ_LISTS = ['t1setrafs', 'T1SPACE09mmISOPOSTwDANTE']\n",
    "    t1_PATH = os.path.join(PAT_PATH, SEQ_LISTS[0])\n",
    "    t1_rsl = [img for img in os.listdir(t1_PATH) if '.nii' in img]\n",
    "    t1_PATH = os.path.join(t1_PATH, t1_rsl[0])\n",
    "\n",
    "    dante_PATH = os.path.join(PAT_PATH, SEQ_LISTS[1])\n",
    "    dante_rsl = [img for img in os.listdir(dante_PATH) if '.nii' in img]\n",
    "    dante_PATH = os.path.join(dante_PATH, dante_rsl[0])\n",
    "\n",
    "    if img == 'rsl':\n",
    "        t1_PATH = os.path.join(t1_PATH, t1_rsl[1])\n",
    "        dante_PATH = os.path.join(dante_PATH, dante_rsl[1])\n",
    "        \n",
    "        t1_img = load_nii(t1_PATH)\n",
    "        dante_img = load_nii(dante_PATH)\n",
    "        \n",
    "        return t1_img[:,2:-2,:], dante_img[:,2:-2,:]\n",
    "    \n",
    "    else :\n",
    "        t1_img = load_nii(t1_PATH)\n",
    "        dante_img = load_nii(dante_PATH)\n",
    "        \n",
    "        n_slice = dante_img.shape[-1]\n",
    "        low_slices = n_slice//6\n",
    "        high_slices = low_slices*6\n",
    "        diff = n_slice-high_slices\n",
    "        half = diff//2\n",
    "        print(diff, half)\n",
    "        if diff % 2 == 0:\n",
    "            dante_img = dante_img[..., half:-half]\n",
    "        else :\n",
    "            dante_img = dante_img[..., half:-(half+1)]\n",
    "            \n",
    "        return t1_img[:,2:-2,:], dante_img"
   ]
  },
  {
   "cell_type": "code",
   "execution_count": 11,
   "metadata": {},
   "outputs": [
    {
     "name": "stdout",
     "output_type": "stream",
     "text": [
      "5 2\n",
      "Shape of T1 image :  (320, 256, 26)\n",
      "Shape of DANTE image :  (256, 256, 168)\n"
     ]
    }
   ],
   "source": [
    "t1_img, dante_img= load_nii_multi(DATA_ROOT+PAT_LISTS[0], img=None)\n",
    "print(\"Shape of T1 image : \", t1_img.shape)\n",
    "print(\"Shape of DANTE image : \", dante_img.shape)\n",
    "#print(\"Shape of T2 image : \", t2_img.shape)"
   ]
  }
 ],
 "metadata": {
  "kernelspec": {
   "display_name": "Python 3",
   "language": "python",
   "name": "python3"
  },
  "language_info": {
   "codemirror_mode": {
    "name": "ipython",
    "version": 3
   },
   "file_extension": ".py",
   "mimetype": "text/x-python",
   "name": "python",
   "nbconvert_exporter": "python",
   "pygments_lexer": "ipython3",
   "version": "3.6.8"
  }
 },
 "nbformat": 4,
 "nbformat_minor": 2
}
